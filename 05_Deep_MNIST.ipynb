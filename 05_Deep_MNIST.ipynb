{
  "nbformat": 4,
  "nbformat_minor": 0,
  "metadata": {
    "colab": {
      "name": "05_Deep_MNIST.ipynb",
      "provenance": [],
      "private_outputs": true,
      "authorship_tag": "ABX9TyNwOeOghiHrNj1p7sCCTLxQ",
      "include_colab_link": true
    },
    "kernelspec": {
      "name": "python3",
      "display_name": "Python 3"
    },
    "accelerator": "GPU"
  },
  "cells": [
    {
      "cell_type": "markdown",
      "metadata": {
        "id": "view-in-github",
        "colab_type": "text"
      },
      "source": [
        "<a href=\"https://colab.research.google.com/github/ednadev/Data-Scientist/blob/master/05_Deep_MNIST.ipynb\" target=\"_parent\"><img src=\"https://colab.research.google.com/assets/colab-badge.svg\" alt=\"Open In Colab\"/></a>"
      ]
    },
    {
      "cell_type": "markdown",
      "metadata": {
        "id": "gIkHxK7DDbd1",
        "colab_type": "text"
      },
      "source": [
        "### MNIST 손글씨 예측하기"
      ]
    },
    {
      "cell_type": "code",
      "metadata": {
        "id": "eA7Yq3M3CRt2",
        "colab_type": "code",
        "colab": {}
      },
      "source": [
        "import torch\n",
        "import torch.nn as nn\n",
        "import torchvision\n",
        "import torchvision.transforms as transforms\n",
        "import matplotlib.pyplot as plt\n",
        "\n",
        "device=torch.device('cuda' if torch.cuda.is_available() else 'cpu')\n",
        "device"
      ],
      "execution_count": null,
      "outputs": []
    },
    {
      "cell_type": "markdown",
      "metadata": {
        "id": "I4nZQgn6DYQv",
        "colab_type": "text"
      },
      "source": [
        "#### 하이퍼파라미터, DataLoader"
      ]
    },
    {
      "cell_type": "code",
      "metadata": {
        "id": "XKjC8SbLDT7H",
        "colab_type": "code",
        "colab": {}
      },
      "source": [
        "input_size=784 # 28 x 28 x 1\n",
        "hidden_size=500 # 784를 다시 500개로 줄이고\n",
        "num_classes = 10 # 최종적으로 10개가 출력\n",
        "num_epochs=5\n",
        "batch_size=100\n",
        "learning_rate = 0.001"
      ],
      "execution_count": null,
      "outputs": []
    },
    {
      "cell_type": "code",
      "metadata": {
        "id": "ICGXicrcEIn2",
        "colab_type": "code",
        "colab": {}
      },
      "source": [
        "train_dataset=torchvision.datasets.MNIST(root='../../data', \n",
        "                           train=True,\n",
        "                           transform=transforms.ToTensor(),\n",
        "                           download=True)\n",
        "\n",
        "test_dataset = torchvision.datasets.MNIST(root='../../data',\n",
        "                                          train=False,\n",
        "                                          transform=transforms.ToTensor())\n",
        "\n",
        "'''\n",
        "2단계에 걸쳐서 데이타셋을 로딩해온다\n",
        "DataLoader 내부적으로 멀티쓰레딩 방식으로 랩핑되어 있어서 클래스를 빠르게 로더\n",
        "한번할때마다 앞에서 정해준것처럼 100개씩 로딩...\n",
        "shuffle = True는 로딩할때마다 데이타의 순서를 바꿔서 로딩\n",
        "모델이 답지를 외우는 것을 방지하는 효과\n",
        "'''\n",
        "train_loader = torch.utils.data.DataLoader(dataset=train_dataset,\n",
        "                                           batch_size=batch_size,\n",
        "                                           shuffle=True)\n",
        "test_loader = torch.utils.data.DataLoader(dataset=test_dataset,\n",
        "                                          batch_size=batch_size,\n",
        "                                          shuffle=False) # Test 할때는 필요없다"
      ],
      "execution_count": null,
      "outputs": []
    },
    {
      "cell_type": "markdown",
      "metadata": {
        "id": "VW51TLeVGOmx",
        "colab_type": "text"
      },
      "source": [
        "### 모델 생성하기 -- Fully Connected Network"
      ]
    },
    {
      "cell_type": "code",
      "metadata": {
        "id": "wHx-y_kgGRUW",
        "colab_type": "code",
        "colab": {}
      },
      "source": [
        "class NeuralNet(nn.Module):\n",
        "  def __init__(self, input_size, hidden_size, num_classes):\n",
        "    super(NeuralNet, self).__init__()\n",
        "    self.fc1 = nn.Linear(input_size, hidden_size)\n",
        "    self.relu = nn.ReLU()\n",
        "    self.fc2 = nn.Linear(hidden_size, num_classes)\n",
        "\n",
        "  def forward(self, x):\n",
        "    out = self.fc1(x)\n",
        "    out = self.relu(out)\n",
        "    out = self.fc2(out)\n",
        "\n",
        "    return out #여기까지가 클래스 정의부분"
      ],
      "execution_count": null,
      "outputs": []
    },
    {
      "cell_type": "markdown",
      "metadata": {
        "id": "YzEqQbtAJ6sJ",
        "colab_type": "text"
      },
      "source": [
        "### 인스턴스화"
      ]
    },
    {
      "cell_type": "code",
      "metadata": {
        "id": "9YiDLUgRJ89W",
        "colab_type": "code",
        "colab": {}
      },
      "source": [
        "model = NeuralNet(input_size, hidden_size, num_classes).to(device)\n",
        "loss_function = nn.CrossEntropyLoss()\n",
        "optimizer = torch.optim.Adam(model.parameters(), lr=learning_rate)\n",
        "\n",
        "total_step = len(train_loader) # 600번 학습시킬것이다\n",
        "\n",
        "for epoch in range(num_epochs): # 5\n",
        "  for i, (images, labels) in enumerate(train_loader): #100개씩 train_loader에 있는\n",
        "  # 이미지랑 라벨이랑 묶어서 반환(for문 한번 돌때마다 100장씩 로딩)\n",
        "    images = images.reshape(-1, 28*28).to(device)\n",
        "    labels = labels.to(device)\n",
        "\n",
        "    # Forward\n",
        "    preds=model(images)\n",
        "    loss = loss_function(preds, labels) # 두 라벨을 비교...loss를 구한다.\n",
        "\n",
        "    # Backward\n",
        "    optimizer.zero_grad() #backward 하기전에 무조건 초기화\n",
        "    loss.backward() # 각각의 weight들이 loss에 대해서 얼마나 책임을 져야하는지..정량화\n",
        "    optimizer.step() # 실질적인 weight들의 업데이트가 진행된다...학습\n",
        "\n",
        "    if(i+1) % 100 == 0:\n",
        "      print('Epoch [ {}/{} ], Step[{}/{}], Loss : {:.3f}'.format(epoch+1, num_epochs, i+1, total_step, loss.item()))"
      ],
      "execution_count": null,
      "outputs": []
    },
    {
      "cell_type": "markdown",
      "metadata": {
        "id": "HncSvfLqW3Uo",
        "colab_type": "text"
      },
      "source": [
        "## Model Test"
      ]
    },
    {
      "cell_type": "code",
      "metadata": {
        "id": "CYqgsZVJW5j9",
        "colab_type": "code",
        "colab": {}
      },
      "source": [
        "with torch.no_grad(): # 미분하지 않겠다...학습하지 않겠다..backward x\n",
        "  correct = 0\n",
        "  total = 0\n",
        "  for images, labels in test_loader:\n",
        "    images = images.reshape(-1, 28*28).to(device)\n",
        "    labels = labels.to(device)\n",
        "\n",
        "    outputs = model(images)\n",
        "    _, predicted = torch.max(outputs.data, 1) # 80(x), 3 ..80은 필요하지 않으므로 버리기 \n",
        "\n",
        "    total += labels.size(0)\n",
        "    correct += (predicted == labels).sum().item()\n",
        "  print('Accuracy of the FCN images : {} %'.format(100 * correct/total))"
      ],
      "execution_count": null,
      "outputs": []
    },
    {
      "cell_type": "code",
      "metadata": {
        "id": "AS4uh6SidgPW",
        "colab_type": "code",
        "colab": {}
      },
      "source": [
        "torch.save(model.state_dict(), 'model.ckpt') # 모델의 weight"
      ],
      "execution_count": null,
      "outputs": []
    },
    {
      "cell_type": "code",
      "metadata": {
        "id": "v8cqRzZsd2t7",
        "colab_type": "code",
        "colab": {}
      },
      "source": [
        "images.shape"
      ],
      "execution_count": null,
      "outputs": []
    },
    {
      "cell_type": "code",
      "metadata": {
        "id": "EJl5z649eHK8",
        "colab_type": "code",
        "colab": {}
      },
      "source": [
        "plt.imshow(images[1].cpu().reshape(28, 28))\n",
        "print(outputs[1].argmax())"
      ],
      "execution_count": null,
      "outputs": []
    },
    {
      "cell_type": "code",
      "metadata": {
        "id": "1yQ9lPk1e_Zk",
        "colab_type": "code",
        "colab": {}
      },
      "source": [
        "outputs.shape"
      ],
      "execution_count": null,
      "outputs": []
    },
    {
      "cell_type": "code",
      "metadata": {
        "id": "uGlIHrk4fM6b",
        "colab_type": "code",
        "colab": {}
      },
      "source": [
        "for i in range(10):\n",
        "  plt.figure(figsize=(2,2))\n",
        "  plt.imshow(images[i].cpu().numpy().reshape(28,28)) \n",
        "  print(outputs[i].argmax())"
      ],
      "execution_count": null,
      "outputs": []
    }
  ]
}