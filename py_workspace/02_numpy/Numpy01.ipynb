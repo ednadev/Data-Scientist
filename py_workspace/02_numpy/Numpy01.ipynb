{
 "cells": [
  {
   "cell_type": "markdown",
   "metadata": {},
   "source": [
    "### Numpy 배열 생성하기 - array(), rand()"
   ]
  },
  {
   "cell_type": "code",
   "execution_count": null,
   "metadata": {},
   "outputs": [],
   "source": [
    "'''\n",
    "Numpy는 Numeric Python의 약자이다.\n",
    "수학분야 관련된 통계작업시 사용하는 파이썬의 가장 기본이되는 라이브러리\n",
    "과학계산 컴퓨팅 작업과 데이타 분석에 필요한 작업이 가능\n",
    "리스트와 거의 흡사하지만 \n",
    "훨씬더 빠르고 메모리 효율성이 높아서 성능상 우위에 있다.\n",
    "\n",
    "1) import 해서 쓴다.\n",
    "2) array() 사용\n",
    "3) random의 랜덤함수들 사용\n",
    "'''"
   ]
  },
  {
   "cell_type": "markdown",
   "metadata": {},
   "source": [
    "##### np배열과 리스트를 각각 생성, 비교"
   ]
  },
  {
   "cell_type": "code",
   "execution_count": 1,
   "metadata": {},
   "outputs": [],
   "source": [
    "import numpy as np"
   ]
  },
  {
   "cell_type": "code",
   "execution_count": 8,
   "metadata": {},
   "outputs": [
    {
     "name": "stdout",
     "output_type": "stream",
     "text": [
      "[4, 5, 6, 7]\n",
      "[4 5 6 7]\n",
      "<class 'list'>\n",
      "<class 'numpy.ndarray'>\n"
     ]
    }
   ],
   "source": [
    "#1. array() 사용해서 np배열을 생성\n",
    "'''\n",
    "1. 리스트는 출력결과가 [ ] 안에...요소들이 , 로 구분\n",
    "2. np배열은 출력결과가 [ ] 안에...요소들이 , 로 구분되지 않는다.\n",
    "3. np배열은 ndarray객체 타입으로 나온다.\n",
    "   ndarray객체는 다차원 행렬구조를 지원하는 Numpy의 핵심클래스이다.\n",
    "   \n",
    "'''\n",
    "myList = [4,5,6,7]\n",
    "print(myList)\n",
    "\n",
    "myArr = np.array(myList)\n",
    "print(myArr)\n",
    "\n",
    "print(type(myList))\n",
    "print(type(myArr)) #numpy.ndarray : 다차원 배열이라는 뜻"
   ]
  },
  {
   "cell_type": "code",
   "execution_count": 15,
   "metadata": {},
   "outputs": [
    {
     "name": "stdout",
     "output_type": "stream",
     "text": [
      "[5, 6]\n",
      "[-5  6]\n",
      "[-5, 6]\n",
      "[-5  6]\n",
      "[4, 5, 6, 7]\n",
      "[ 4 -5  6  7]\n"
     ]
    }
   ],
   "source": [
    "myList\n",
    "myArr\n",
    "\n",
    "myL_sub = myList[1:3]\n",
    "print(myL_sub)\n",
    "\n",
    "myA_sub = myArr[1:3]\n",
    "print(myA_sub)\n",
    "\n",
    "myL_sub[0] = -5\n",
    "print(myL_sub)\n",
    "\n",
    "myA_sub[0] = -5\n",
    "print(myA_sub)\n",
    "\n",
    "print(myList)\n",
    "print(myArr)"
   ]
  },
  {
   "cell_type": "code",
   "execution_count": 42,
   "metadata": {},
   "outputs": [
    {
     "name": "stdout",
     "output_type": "stream",
     "text": [
      "[0.77921918 0.78003936 0.50812736 0.24334464 0.19904041]\n",
      "<class 'numpy.ndarray'>\n",
      "[1 0 1 0 1 1 1 0 0 0 1 1 0 0 0 0 1 0 0 1 0 0 0 0 0 0 0 0 1 0 1 1 1 0 1 1 0\n",
      " 0 0 1 1 1 0 1 0 0 0 1 1 0 1 1 1 1 0 1 1 1 0 1 1 1 1 0 1 1 0 1 1 0 1 1 0 0\n",
      " 0 0 1 0 1 1 0 1 1 1 0 1 1 0 0 1 0 0 0 1 1 1 0 1 1 1]\n",
      "<class 'numpy.ndarray'>\n",
      "[ 0.35437028 -1.16592251  0.63778651 -1.21369796 -1.25703764 -1.47449986\n",
      " -1.03474208  0.45531349 -0.58708194  0.20377692]\n",
      "<class 'numpy.ndarray'>\n"
     ]
    }
   ],
   "source": [
    "# 2. 랜덤함수 사용해서 생성..\n",
    "# rand(), randint()\n",
    "\n",
    "a = np.random.rand(5)\n",
    "print(a)\n",
    "print(type(a))\n",
    "\n",
    "b = np.random.randint(0,2,100)\n",
    "print(b)\n",
    "print(type(b))\n",
    "\n",
    "c = np.random.randn(10) #가우시안 표준분포\n",
    "print(c)\n",
    "print(type(c))"
   ]
  },
  {
   "cell_type": "code",
   "execution_count": 47,
   "metadata": {},
   "outputs": [
    {
     "data": {
      "text/plain": [
       "array([1, 2, 3, 4, 5])"
      ]
     },
     "execution_count": 47,
     "metadata": {},
     "output_type": "execute_result"
    }
   ],
   "source": [
    "## 리스트와의 차이점\n",
    "'''\n",
    "np배열은 하나의 자료형만 저장 가능\n",
    "즉, 숫자와 문자를 동시에 저장할수 없다.\n",
    "만약에 숫자와 문자가 동시에 저장되어지면 더큰 데이타타입은 문자로 변환되어 저장\n",
    "이러한 제약을 가지는 이유....내부 원소에 대한 접근과 반복문 실행을 빨리하기 위함\n",
    "나중에 배우게될 Series에서 다시 한번 언급...!!!\n",
    "\n",
    "값을 타입을 명시할수도 있다.\n",
    "dtype 속성을 사용한다..int32, int64, float32, float64\n",
    "'''\n",
    "L = [1, 2, 3, '4', 5, 6, 7]\n",
    "L\n",
    "\n",
    "narr1 = np.array([1,2,'3','4',5,6])\n",
    "narr1\n",
    "\n",
    "narr2 = np.array([1, 2, 3, 4.0, 5, 6])\n",
    "narr2\n",
    "\n",
    "narr3 = np.array([1.0, 2.0, 3.0, 4.0, 5.0], dtype='int32') # flooat64\n",
    "narr3"
   ]
  },
  {
   "cell_type": "markdown",
   "metadata": {},
   "source": [
    "### 배열 초기화"
   ]
  },
  {
   "cell_type": "code",
   "execution_count": 41,
   "metadata": {},
   "outputs": [
    {
     "name": "stdout",
     "output_type": "stream",
     "text": [
      "[0. 0. 0. 0. 0. 0. 0. 0. 0. 0.]\n",
      "[1. 1. 1. 1. 1. 1. 1. 1. 1. 1.]\n",
      "[3. 3. 3. 3. 3. 3. 3. 3. 3. 3.]\n",
      "[[1. 0. 0. 0. 0.]\n",
      " [0. 1. 0. 0. 0.]\n",
      " [0. 0. 1. 0. 0.]\n",
      " [0. 0. 0. 1. 0.]\n",
      " [0. 0. 0. 0. 1.]]\n",
      "[0 1 2]\n",
      "[0 1 2]\n",
      "[3 5 7 9]\n",
      "[[-11 -11 -11 -11 -11]\n",
      " [-11 -11 -11 -11 -11]\n",
      " [-11 -11 -11 -11 -11]\n",
      " [-11 -11 -11 -11 -11]\n",
      " [-11 -11 -11 -11 -11]]\n"
     ]
    }
   ],
   "source": [
    "# 1. 0값으로 초기화...zeros()\n",
    "az = np.zeros(10)\n",
    "print(az)\n",
    "\n",
    "# 2. 1값으로 초기화...ones()\n",
    "ao = np.ones(10)\n",
    "print(ao)\n",
    "\n",
    "# 3. 3 으로 초기화....\n",
    "am = np.zeros(10)+3\n",
    "print(am)\n",
    "\n",
    "# 4. \n",
    "ae = np.eye(5) # 3x3\n",
    "print(ae)\n",
    "\n",
    "# 5. arange()\n",
    "print(np.arange(3))\n",
    "print(np.arange(0,3))\n",
    "print(np.arange(3,10,2))\n",
    "\n",
    "# 6. full()\n",
    "af = np.full?\n",
    "af = np.full((5,5), -11, dtype='int32')\n",
    "print(af)"
   ]
  },
  {
   "cell_type": "markdown",
   "metadata": {},
   "source": [
    "### Numpy 배열의 속성과 기본함수\n",
    "#### ndim, shape, reshape, size, dtype, type"
   ]
  },
  {
   "cell_type": "code",
   "execution_count": 57,
   "metadata": {},
   "outputs": [
    {
     "data": {
      "text/plain": [
       "array([[1, 2, 3],\n",
       "       [4, 5, 6]])"
      ]
     },
     "execution_count": 57,
     "metadata": {},
     "output_type": "execute_result"
    }
   ],
   "source": [
    "# arr1 = np.array([[1.0, 2, 3], [4, 5, 6]], dtype='int32')\n",
    "arr1 = np.array([[1.0, 2, 3], [4, 5, 6]], dtype=np.int32)\n",
    "arr1"
   ]
  },
  {
   "cell_type": "code",
   "execution_count": 63,
   "metadata": {},
   "outputs": [
    {
     "name": "stdout",
     "output_type": "stream",
     "text": [
      "<class 'numpy.ndarray'>\n",
      "2\n",
      "(2, 3)\n",
      "6\n",
      "******************************\n",
      "[[1. 2. 3.]\n",
      " [4. 5. 6.]]\n",
      "<class 'numpy.ndarray'>\n",
      "******************************\n"
     ]
    },
    {
     "data": {
      "text/plain": [
       "array([[ 0,  1,  2,  3,  4,  5,  6,  7],\n",
       "       [ 8,  9, 10, 11, 12, 13, 14, 15],\n",
       "       [16, 17, 18, 19, 20, 21, 22, 23],\n",
       "       [24, 25, 26, 27, 28, 29, 30, 31]])"
      ]
     },
     "execution_count": 63,
     "metadata": {},
     "output_type": "execute_result"
    }
   ],
   "source": [
    "print(type(arr1))\n",
    "print(np.ndim(arr1)) # ndim은 함수\n",
    "print(np.shape(arr1))\n",
    "print(np.size(arr1))\n",
    "\n",
    "print('*'*30)\n",
    "#arr1 배열의 요소값 타입을 한번에 바꿀때 사용\n",
    "arr1_1 = arr1.astype(np.float64) #astype() == dtype...요소에 해당하는것들\n",
    "print(arr1_1)\n",
    "print(type(arr1_1))# 객체 자체의 타입을 리턴\n",
    "\n",
    "print('*'*30)\n",
    "arr2 = np.arange(32).reshape(4,8)\n",
    "arr2"
   ]
  },
  {
   "cell_type": "markdown",
   "metadata": {},
   "source": [
    "### 랜덤함수와 seed값 설정하기"
   ]
  },
  {
   "cell_type": "code",
   "execution_count": null,
   "metadata": {},
   "outputs": [],
   "source": [
    "'''\n",
    "Numpy의 random 모듈(서브패키지)에는 난수를 생성하는 다양한 함수들이 존재\n",
    "그중에서 가장 많이 사용되는 3가지를 정리....\n",
    "\n",
    "rand : 0~1사이의 실수값을 반환 - rand(행, 열)\n",
    "randn : 가우시안 정규분포값 randn(행, 열)\n",
    "randint : randint(row, high, size)\n",
    "'''"
   ]
  },
  {
   "cell_type": "code",
   "execution_count": 68,
   "metadata": {},
   "outputs": [
    {
     "data": {
      "text/plain": [
       "array([[-0.6964783 , -0.26241234,  1.62459924,  0.87967666],\n",
       "       [ 1.73064458, -0.78587357, -0.75202078, -1.63603162],\n",
       "       [-0.63157719, -2.59792762, -0.86435373, -1.628227  ],\n",
       "       [-0.04533108, -0.32768598, -0.57434587,  0.06188592]])"
      ]
     },
     "execution_count": 68,
     "metadata": {},
     "output_type": "execute_result"
    }
   ],
   "source": [
    "arr3 = np.random.randn(4,4) # 내부적으로 컴퓨터 시각으로 측정\n",
    "arr3"
   ]
  },
  {
   "cell_type": "code",
   "execution_count": 75,
   "metadata": {},
   "outputs": [
    {
     "data": {
      "text/plain": [
       "array([[-1.18269089,  1.33746165, -0.31430504,  0.5566431 ],\n",
       "       [-0.20929933, -0.01180037,  1.23493345, -0.04341894],\n",
       "       [-0.68178724,  1.20069197,  1.34394438, -0.834109  ],\n",
       "       [ 1.0359977 ,  1.6657991 ,  0.94947856,  1.06700952]])"
      ]
     },
     "execution_count": 75,
     "metadata": {},
     "output_type": "execute_result"
    }
   ],
   "source": [
    "# seed값 설정하기\n",
    "# 특정한 시작 숫자를 제공해서 난수를 발생...고정적인 난수가 발생\n",
    "# 실행할때마다 난수값이 바뀌지 않기때문에 분석결과를 확인하는데 용이\n",
    "# seed값은 한번만 정해주면 계속 유지된다...\n",
    "\n",
    "np.random.seed(404)\n",
    "arr3 = np.random.randn(4,4)\n",
    "arr3"
   ]
  }
 ],
 "metadata": {
  "kernelspec": {
   "display_name": "Python 3",
   "language": "python",
   "name": "python3"
  },
  "language_info": {
   "codemirror_mode": {
    "name": "ipython",
    "version": 3
   },
   "file_extension": ".py",
   "mimetype": "text/x-python",
   "name": "python",
   "nbconvert_exporter": "python",
   "pygments_lexer": "ipython3",
   "version": "3.7.6"
  }
 },
 "nbformat": 4,
 "nbformat_minor": 4
}
