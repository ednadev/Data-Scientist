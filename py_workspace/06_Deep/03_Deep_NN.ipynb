{
 "cells": [
  {
   "cell_type": "code",
   "execution_count": 1,
   "metadata": {},
   "outputs": [],
   "source": [
    "import torch\n",
    "import torch.nn as nn\n",
    "import numpy as np\n",
    "import matplotlib.pyplot as plt"
   ]
  },
  {
   "cell_type": "markdown",
   "metadata": {},
   "source": [
    "## Generator Toy DataSet"
   ]
  },
  {
   "cell_type": "code",
   "execution_count": 2,
   "metadata": {},
   "outputs": [],
   "source": [
    "# Toy dataset\n",
    "x_train = np.array([[3.3], [4.4], [5.5], [6.71], [6.93], [4.168], \n",
    "                    [9.779], [6.182], [7.59], [2.167], [7.042], \n",
    "                    [10.791], [5.313], [7.997], [3.1]], dtype=np.float32)\n",
    "\n",
    "y_train = np.array([[1.7], [2.76], [2.09], [3.19], [1.694], [1.573], \n",
    "                    [3.366], [2.596], [2.53], [1.221], [2.827], \n",
    "                    [3.465], [1.65], [2.904], [1.3]], dtype=np.float32)"
   ]
  },
  {
   "cell_type": "markdown",
   "metadata": {},
   "source": [
    "### Hyperparameter"
   ]
  },
  {
   "cell_type": "code",
   "execution_count": 3,
   "metadata": {},
   "outputs": [],
   "source": [
    "input_size=1\n",
    "output_size=1\n",
    "num_epochs=100\n",
    "learning_rate=0.01"
   ]
  },
  {
   "cell_type": "code",
   "execution_count": 4,
   "metadata": {},
   "outputs": [],
   "source": [
    "#1. Linear Model Generation\n",
    "model = nn.Linear(input_size, output_size)\n",
    "\n",
    "#2. Loss and optimizer\n",
    "loss_function = nn.MSELoss()\n",
    "optimizer = torch.optim.SGD(model.parameters(), lr=learning_rate)"
   ]
  },
  {
   "cell_type": "code",
   "execution_count": 5,
   "metadata": {},
   "outputs": [
    {
     "name": "stdout",
     "output_type": "stream",
     "text": [
      "Epoch [5/100], Loss : 0.479\n",
      "Epoch [10/100], Loss : 0.471\n",
      "Epoch [15/100], Loss : 0.463\n",
      "Epoch [20/100], Loss : 0.456\n",
      "Epoch [25/100], Loss : 0.449\n",
      "Epoch [30/100], Loss : 0.441\n",
      "Epoch [35/100], Loss : 0.435\n",
      "Epoch [40/100], Loss : 0.428\n",
      "Epoch [45/100], Loss : 0.421\n",
      "Epoch [50/100], Loss : 0.415\n",
      "Epoch [55/100], Loss : 0.409\n",
      "Epoch [60/100], Loss : 0.402\n",
      "Epoch [65/100], Loss : 0.397\n",
      "Epoch [70/100], Loss : 0.391\n",
      "Epoch [75/100], Loss : 0.385\n",
      "Epoch [80/100], Loss : 0.380\n",
      "Epoch [85/100], Loss : 0.374\n",
      "Epoch [90/100], Loss : 0.369\n",
      "Epoch [95/100], Loss : 0.364\n",
      "Epoch [100/100], Loss : 0.359\n"
     ]
    }
   ],
   "source": [
    "#3. Train the Model\n",
    "for epoch in range(num_epochs):\n",
    "    inputs = torch.from_numpy(x_train)\n",
    "    targets = torch.from_numpy(y_train)\n",
    "    \n",
    "    # Forward ...\n",
    "    outputs = model(inputs)\n",
    "    loss = loss_function(outputs, targets)\n",
    "    \n",
    "    optimizer.zero_grad() # 이부분 반드시 해줘야 한다.. optimizer 초기화\n",
    "    loss.backward()\n",
    "    \n",
    "    optimizer.step()\n",
    "    \n",
    "    if(epoch+1)%5==0:\n",
    "        print('Epoch [{}/{}], Loss : {:.3f}'.format(epoch+1, num_epochs, loss.item()))"
   ]
  }
 ],
 "metadata": {
  "kernelspec": {
   "display_name": "Python 3",
   "language": "python",
   "name": "python3"
  },
  "language_info": {
   "codemirror_mode": {
    "name": "ipython",
    "version": 3
   },
   "file_extension": ".py",
   "mimetype": "text/x-python",
   "name": "python",
   "nbconvert_exporter": "python",
   "pygments_lexer": "ipython3",
   "version": "3.7.7"
  }
 },
 "nbformat": 4,
 "nbformat_minor": 4
}
