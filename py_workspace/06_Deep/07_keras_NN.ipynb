{
 "cells": [
  {
   "cell_type": "code",
   "execution_count": 1,
   "metadata": {},
   "outputs": [],
   "source": [
    "import keras\n",
    "from keras import models, layers\n",
    "import numpy as np"
   ]
  },
  {
   "cell_type": "code",
   "execution_count": 2,
   "metadata": {},
   "outputs": [
    {
     "name": "stdout",
     "output_type": "stream",
     "text": [
      "[0 1 2 3 4]\n",
      "[1 3 5 7 9]\n"
     ]
    }
   ],
   "source": [
    "# 1. Data Generator\n",
    "x = np.array([0,1,2,3,4])\n",
    "y = 2 * x +1\n",
    "\n",
    "print(x)\n",
    "print(y)"
   ]
  },
  {
   "cell_type": "code",
   "execution_count": 3,
   "metadata": {},
   "outputs": [],
   "source": [
    "# 2. Model Generator\n",
    "'''\n",
    "units - 히든레이어의 유닛의 갯수\n",
    "**kwargs : 이런건 없다...input_shape=(1,)\n",
    "'''\n",
    "model=models.Sequential()\n",
    "model.add(layers.Dense(1,input_shape=(1,)))\n",
    "# layers.Dense?"
   ]
  },
  {
   "cell_type": "code",
   "execution_count": 4,
   "metadata": {},
   "outputs": [],
   "source": [
    "# 3. ...opmizer에 해당하는 부분,,loss에 해당하는 부분...compile\n",
    "model.compile(optimizer=keras.optimizers.SGD(0.01), loss='mse', metrics=['accuracy'])"
   ]
  },
  {
   "cell_type": "code",
   "execution_count": 5,
   "metadata": {},
   "outputs": [
    {
     "name": "stdout",
     "output_type": "stream",
     "text": [
      "[0 1 2 3]\n",
      "[1 3 5 7]\n"
     ]
    }
   ],
   "source": [
    "# 4. 학습을 진행\n",
    "model.fit(x[:4], y[:4], epochs = 100, verbose=0)\n",
    "print(x[:4])\n",
    "print(y[:4])"
   ]
  },
  {
   "cell_type": "code",
   "execution_count": 6,
   "metadata": {},
   "outputs": [
    {
     "name": "stdout",
     "output_type": "stream",
     "text": [
      "Y Value :  [7 9]\n",
      "Prediction :  [7.085401 9.184743]\n"
     ]
    }
   ],
   "source": [
    "# 5. 예측\n",
    "print('Y Value : ', y[3:])\n",
    "print('Prediction : ', model.predict(x[3:]).flatten()) # 1차원으로 펼쳐서"
   ]
  },
  {
   "cell_type": "code",
   "execution_count": 7,
   "metadata": {},
   "outputs": [
    {
     "name": "stdout",
     "output_type": "stream",
     "text": [
      "1/1 [==============================] - 0s 0s/step - loss: 0.0207 - accuracy: 0.0000e+00\n",
      "[0.020711643621325493, 0.0]\n"
     ]
    }
   ],
   "source": [
    "# 6. Evaluate\n",
    "loss_function=model.evaluate(x[3:], y[3:])\n",
    "print(loss_function)"
   ]
  },
  {
   "cell_type": "code",
   "execution_count": 8,
   "metadata": {},
   "outputs": [
    {
     "name": "stdout",
     "output_type": "stream",
     "text": [
      "1/1 [==============================] - 0s 1ms/step - loss: 0.0207 - accuracy: 0.0000e+00\n",
      "Loss:0.020711643621325493, Accuracy:0.0\n"
     ]
    }
   ],
   "source": [
    "eval_model=model.evaluate(x[3:], y[3:])\n",
    "print('Loss:{}, Accuracy:{}'.format(*eval_model))"
   ]
  }
 ],
 "metadata": {
  "kernelspec": {
   "display_name": "Python 3",
   "language": "python",
   "name": "python3"
  },
  "language_info": {
   "codemirror_mode": {
    "name": "ipython",
    "version": 3
   },
   "file_extension": ".py",
   "mimetype": "text/x-python",
   "name": "python",
   "nbconvert_exporter": "python",
   "pygments_lexer": "ipython3",
   "version": "3.7.7"
  }
 },
 "nbformat": 4,
 "nbformat_minor": 4
}
