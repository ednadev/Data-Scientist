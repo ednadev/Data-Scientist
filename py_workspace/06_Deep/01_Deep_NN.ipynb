{
 "cells": [
  {
   "cell_type": "markdown",
   "metadata": {},
   "source": [
    "### Pytorch 에서의 Gradient Descent\n",
    "    우리는 이전 머신러닝 과정에서 선형회귀(Linear Regression)에 대해서 간단히 살펴보았다.\n",
    "    이번에는 파이토치를 이용해서 선형회귀를 위한 연산 그래프를 만들고 경사하강법을 이해하는 코드\n",
    "    를 다시 작성해 봅니다. 파이토치에서는 데이타의 기본단위 텐서(Tensor)를 사용합니다.\n",
    "    Numpy에서 np.array([1,2,3]) 와 동일한 겁니다.\n",
    "    이러한 텐서를 연산의 기본단위로 사용합니다. 텐서를 생성하는 방법에는 torch.tensor()..."
   ]
  },
  {
   "cell_type": "code",
   "execution_count": 1,
   "metadata": {},
   "outputs": [],
   "source": [
    "import torch # 그냥 torch로 부른다.\n",
    "import torchvision # 파이토치에서 vision은 Image Processing에 특화된 라이브러리\n",
    "import torch.nn as nn # nn 은 Neural Net\n",
    "import numpy as np\n",
    "import torchvision.transforms as transforms # transforms...data augmentation"
   ]
  },
  {
   "cell_type": "code",
   "execution_count": 6,
   "metadata": {},
   "outputs": [
    {
     "data": {
      "text/plain": [
       "tensor([[1., 2., 3.],\n",
       "        [4., 5., 6.]])"
      ]
     },
     "execution_count": 6,
     "metadata": {},
     "output_type": "execute_result"
    }
   ],
   "source": [
    "X = torch.Tensor(2,3)\n",
    "X\n",
    "X.shape\n",
    "X.size()\n",
    "\n",
    "X = torch.Tensor([[1, 2, 3], [4, 5, 6]])\n",
    "X"
   ]
  },
  {
   "cell_type": "code",
   "execution_count": 20,
   "metadata": {},
   "outputs": [
    {
     "name": "stdout",
     "output_type": "stream",
     "text": [
      "loss  tensor(25., grad_fn=<SumBackward0>)\n",
      "tensor([ 8., 12.]) None\n"
     ]
    }
   ],
   "source": [
    "'''\n",
    "tensor()함수 인자값으로 data.dtype, device, requires_grad 등이 있다.\n",
    "dtype - 타입지정\n",
    "device - 텐서를 어느 기기에 올릴것인가를 지정...(cpu, gpu)\n",
    "requires_grad - 텐서에 기울기를 지정할지를 여부..(False)...미분사용 여부\n",
    "'''\n",
    "\n",
    "x = torch.tensor(data=[2.0, 3.0], requires_grad=True)\n",
    "# x = torch.tensor(data=[2.0, 3.0])\n",
    "x\n",
    "\n",
    "y = x**2\n",
    "y\n",
    "\n",
    "# 1. 예측값 출력\n",
    "pred = 2*y + 3 # 2x^ + 3\n",
    "pred\n",
    "\n",
    "target = torch.tensor([3.0, 4.0])\n",
    "\n",
    "# 2. loss 값을 구한다.\n",
    "loss = torch.sum(torch.abs(pred-target)) # (11-3) + (21-4) = 25\n",
    "loss\n",
    "print('loss ', loss)\n",
    "\n",
    "# 3. 가장 가파른 기울기로 하강하는 weight를 찾는다.\n",
    "# 가장 낮은 loss값을 구하는 weight를 찾는다....미분, 편미분...backpropagation\n",
    "\n",
    "loss.backward()\n",
    "\n",
    "'''\n",
    "x.grad ---> dy/dw = x\n",
    "w.grad ---> dy/dx = w\n",
    "'''\n",
    "print(x.grad, pred.grad)"
   ]
  },
  {
   "cell_type": "markdown",
   "metadata": {},
   "source": [
    "### Tensor Type - tensor(), as_tensor()\n",
    "    Numpy 배열을 torch.Tensor 변형"
   ]
  },
  {
   "cell_type": "code",
   "execution_count": 28,
   "metadata": {},
   "outputs": [
    {
     "name": "stdout",
     "output_type": "stream",
     "text": [
      "[[1 2]\n",
      " [3 4]]\n",
      "int32\n",
      "<class 'numpy.ndarray'>\n",
      "****************************************\n",
      "tensor([[1, 2],\n",
      "        [3, 4]], dtype=torch.int32)\n",
      "<class 'torch.Tensor'>\n",
      "****************************************\n",
      "tensor([[1, 2],\n",
      "        [3, 4]], dtype=torch.int32)\n",
      "<class 'torch.Tensor'>\n",
      "****************************************\n",
      "<class 'numpy.ndarray'>\n"
     ]
    }
   ],
   "source": [
    "'''\n",
    "Pytorch의 텐서 자료형은 Numpy의 array()와 동일한 것으로 이해...\n",
    "\n",
    "'''\n",
    "# 1.\n",
    "li = np.array([[1, 2], [3, 4]])\n",
    "print(li)\n",
    "print(li.dtype)\n",
    "print(type(li))\n",
    "\n",
    "print('*' * 40)\n",
    "\n",
    "li_torch = torch.tensor(li)\n",
    "print(li_torch)\n",
    "print(type(li_torch))\n",
    "\n",
    "print('*' * 40)\n",
    "\n",
    "li_as_torch = torch.as_tensor(li)\n",
    "print(li_as_torch)\n",
    "print(type(li_as_torch))\n",
    "\n",
    "print('*' * 40)\n",
    "# 반대로 텐서를 Numpy 배열로 변형....torch.numpy()\n",
    "li_tensor_numpy = li_as_torch.numpy()\n",
    "print(type(li_tensor_numpy))"
   ]
  }
 ],
 "metadata": {
  "kernelspec": {
   "display_name": "Python 3",
   "language": "python",
   "name": "python3"
  },
  "language_info": {
   "codemirror_mode": {
    "name": "ipython",
    "version": 3
   },
   "file_extension": ".py",
   "mimetype": "text/x-python",
   "name": "python",
   "nbconvert_exporter": "python",
   "pygments_lexer": "ipython3",
   "version": "3.7.7"
  }
 },
 "nbformat": 4,
 "nbformat_minor": 4
}
