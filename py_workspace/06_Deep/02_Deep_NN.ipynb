{
 "cells": [
  {
   "cell_type": "code",
   "execution_count": 1,
   "metadata": {},
   "outputs": [],
   "source": [
    "import torch\n",
    "import torchvision\n",
    "import torch.nn as nn\n",
    "import numpy as np\n",
    "import torchvision.transforms as transforms"
   ]
  },
  {
   "cell_type": "markdown",
   "metadata": {},
   "source": [
    "### Create Tensor...Generation Neural Net"
   ]
  },
  {
   "cell_type": "code",
   "execution_count": 2,
   "metadata": {},
   "outputs": [
    {
     "name": "stdout",
     "output_type": "stream",
     "text": [
      "tensor(1., requires_grad=True)\n",
      "tensor(2., requires_grad=True)\n",
      "tensor(3., requires_grad=True)\n"
     ]
    }
   ],
   "source": [
    "x = torch.tensor(1., requires_grad = True)\n",
    "w = torch.tensor(2., requires_grad = True)\n",
    "b = torch.tensor(3., requires_grad = True)\n",
    "\n",
    "# w * x + b\n",
    "print(x)\n",
    "print(w)\n",
    "print(b)"
   ]
  },
  {
   "cell_type": "code",
   "execution_count": 3,
   "metadata": {},
   "outputs": [
    {
     "name": "stdout",
     "output_type": "stream",
     "text": [
      "tensor(2.)\n",
      "tensor(1.)\n",
      "tensor(1.)\n"
     ]
    }
   ],
   "source": [
    "y = w * x + b # 1차원.. y = 2x + 3\n",
    "\n",
    "y.backward() # 미분이 진행된다.\n",
    "print(x.grad)\n",
    "print(w.grad)\n",
    "print(b.grad)"
   ]
  },
  {
   "cell_type": "markdown",
   "metadata": {},
   "source": [
    "### Create Tensor...2차원"
   ]
  },
  {
   "cell_type": "code",
   "execution_count": 9,
   "metadata": {},
   "outputs": [
    {
     "name": "stdout",
     "output_type": "stream",
     "text": [
      "Weight Parameter containing:\n",
      "tensor([[-0.3330, -0.4422,  0.3958],\n",
      "        [-0.4323, -0.3638, -0.1003]], requires_grad=True)\n",
      "Bias Parameter containing:\n",
      "tensor([ 0.5753, -0.1440], requires_grad=True)\n",
      "<generator object Module.parameters at 0x0000010B9806D848>\n"
     ]
    }
   ],
   "source": [
    "x = torch.randn(10,3)\n",
    "y = torch.randn(10,2)\n",
    "x\n",
    "y\n",
    "\n",
    "linear = nn.Linear(3,2)\n",
    "print('Weight', linear.weight)\n",
    "print('Bias', linear.bias)\n",
    "\n",
    "print(linear.parameters())"
   ]
  },
  {
   "cell_type": "code",
   "execution_count": 17,
   "metadata": {},
   "outputs": [
    {
     "name": "stdout",
     "output_type": "stream",
     "text": [
      "Loss... before Backpropagation::  1.6341321468353271\n",
      "dL/dw tensor([[-0.3267,  0.0285,  0.0465],\n",
      "        [ 0.0188,  0.0022,  0.1673]])\n",
      "dL/db tensor([0.3828, 0.0630])\n",
      "Loss... after Backpropagation:: 1.631256103515625\n"
     ]
    }
   ],
   "source": [
    "loss_function = nn.MSELoss() # 미리 LOSS함수를 정의해두고 사용은 밑에서\n",
    "optimizer = torch.optim.SGD(linear.parameters(), lr = 0.01)\n",
    "\n",
    "pred = linear(x) # 모델에 x를 입력하면 예측값이 나온다.\n",
    "\n",
    "loss = loss_function(pred, y)\n",
    "\n",
    "print('Loss... before Backpropagation:: ', loss.item())\n",
    "\n",
    "loss.backward() # backpropagation\n",
    "\n",
    "print('dL/dw', linear.weight.grad)\n",
    "print('dL/db', linear.bias.grad)\n",
    "\n",
    "optimizer.step() # 이때 수정된값으로 실질적인 학습...하강한다..\n",
    "\n",
    "# 반복효과\n",
    "pred = linear(x)\n",
    "loss = loss_function(pred, y)\n",
    "print('Loss... after Backpropagation::', loss.item())"
   ]
  }
 ],
 "metadata": {
  "kernelspec": {
   "display_name": "Python 3",
   "language": "python",
   "name": "python3"
  },
  "language_info": {
   "codemirror_mode": {
    "name": "ipython",
    "version": 3
   },
   "file_extension": ".py",
   "mimetype": "text/x-python",
   "name": "python",
   "nbconvert_exporter": "python",
   "pygments_lexer": "ipython3",
   "version": "3.7.7"
  }
 },
 "nbformat": 4,
 "nbformat_minor": 4
}
