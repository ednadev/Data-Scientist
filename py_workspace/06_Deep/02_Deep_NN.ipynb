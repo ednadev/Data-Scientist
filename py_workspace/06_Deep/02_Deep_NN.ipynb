{
 "cells": [
  {
   "cell_type": "code",
   "execution_count": 1,
   "metadata": {},
   "outputs": [],
   "source": [
    "import torch\n",
    "import torchvision\n",
    "import torch.nn as nn\n",
    "import numpy as np\n",
    "import torchvision.transforms as transforms"
   ]
  },
  {
   "cell_type": "markdown",
   "metadata": {},
   "source": [
    "### Create Tensor...Generation Neural Net"
   ]
  },
  {
   "cell_type": "code",
   "execution_count": 2,
   "metadata": {},
   "outputs": [
    {
     "name": "stdout",
     "output_type": "stream",
     "text": [
      "tensor(1., requires_grad=True)\n",
      "tensor(2., requires_grad=True)\n",
      "tensor(3., requires_grad=True)\n"
     ]
    }
   ],
   "source": [
    "x = torch.tensor(1., requires_grad = True)\n",
    "w = torch.tensor(2., requires_grad = True)\n",
    "b = torch.tensor(3., requires_grad = True)\n",
    "\n",
    "# w * x + b\n",
    "print(x)\n",
    "print(w)\n",
    "print(b)"
   ]
  },
  {
   "cell_type": "code",
   "execution_count": 3,
   "metadata": {},
   "outputs": [
    {
     "name": "stdout",
     "output_type": "stream",
     "text": [
      "tensor(2.)\n",
      "tensor(1.)\n",
      "tensor(1.)\n"
     ]
    }
   ],
   "source": [
    "y = w * x + b # 1차원.. y = 2x + 3\n",
    "\n",
    "y.backward() # 미분이 진행된다.\n",
    "print(x.grad)\n",
    "print(w.grad)\n",
    "print(b.grad)"
   ]
  },
  {
   "cell_type": "markdown",
   "metadata": {},
   "source": [
    "### Create Tensor...2차원"
   ]
  },
  {
   "cell_type": "code",
   "execution_count": 4,
   "metadata": {},
   "outputs": [
    {
     "name": "stdout",
     "output_type": "stream",
     "text": [
      "Weight Parameter containing:\n",
      "tensor([[-0.0870, -0.3051, -0.4081],\n",
      "        [-0.3686, -0.5586,  0.5421]], requires_grad=True)\n",
      "Bias Parameter containing:\n",
      "tensor([0.1273, 0.3886], requires_grad=True)\n",
      "<generator object Module.parameters at 0x000001ECB5ACFEC8>\n"
     ]
    }
   ],
   "source": [
    "x = torch.randn(10,3)\n",
    "y = torch.randn(10,2)\n",
    "x\n",
    "y\n",
    "\n",
    "linear = nn.Linear(3,2)\n",
    "print('Weight', linear.weight)\n",
    "print('Bias', linear.bias)\n",
    "\n",
    "print(linear.parameters())"
   ]
  },
  {
   "cell_type": "code",
   "execution_count": 5,
   "metadata": {},
   "outputs": [
    {
     "name": "stdout",
     "output_type": "stream",
     "text": [
      "Loss... before Backpropagation::  1.1664613485336304\n",
      "dL/dw tensor([[ 0.2416, -0.1179, -0.8166],\n",
      "        [-0.1973, -0.2509,  0.3385]])\n",
      "dL/db tensor([0.5850, 0.0991])\n",
      "Loss... after Backpropagation:: 1.1534785032272339\n"
     ]
    }
   ],
   "source": [
    "# 선정의해둔다\n",
    "loss_function = nn.MSELoss() # 미리 LOSS함수를 정의해두고 사용은 밑에서..MSELoss, L2\n",
    "'''\n",
    "인자값으로 linear 모델에서 학습시키고자하는 주체를 넣어준다.\n",
    "linear.parameters()\n",
    "parameters()는 weight, bias값을 내포하고 있는 해킹된 함수\n",
    "'''\n",
    "optimizer = torch.optim.SGD(linear.parameters(), lr = 0.01)\n",
    "\n",
    "\n",
    "pred = linear.forward(x) # 모델에 x를 입력하면 예측값이 나온다. forward 생략 가능 pred = linear(x)\n",
    "\n",
    "loss = loss_function(pred, y)\n",
    "\n",
    "print('Loss... before Backpropagation:: ', loss.item())\n",
    "\n",
    "loss.backward() # backpropagation\n",
    "\n",
    "print('dL/dw', linear.weight.grad)\n",
    "print('dL/db', linear.bias.grad)\n",
    "\n",
    "optimizer.step() # 이때 수정된값으로 실질적인 학습...하강한다..\n",
    "\n",
    "# 반복효과\n",
    "pred = linear(x)\n",
    "loss = loss_function(pred, y)\n",
    "print('Loss... after Backpropagation::', loss.item())"
   ]
  },
  {
   "cell_type": "markdown",
   "metadata": {},
   "source": [
    "#### Neural Net Flow\n",
    "    1. 모델 정의\n",
    "    2. 모델에 값 입력해서 예측값 할당\n",
    "    3. Loss \n",
    "    4. backward()\n",
    "    5. 학습진행 step()"
   ]
  }
 ],
 "metadata": {
  "kernelspec": {
   "display_name": "Python 3",
   "language": "python",
   "name": "python3"
  },
  "language_info": {
   "codemirror_mode": {
    "name": "ipython",
    "version": 3
   },
   "file_extension": ".py",
   "mimetype": "text/x-python",
   "name": "python",
   "nbconvert_exporter": "python",
   "pygments_lexer": "ipython3",
   "version": "3.7.7"
  }
 },
 "nbformat": 4,
 "nbformat_minor": 4
}
