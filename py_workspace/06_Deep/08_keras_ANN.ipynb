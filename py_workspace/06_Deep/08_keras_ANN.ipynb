{
 "cells": [
  {
   "cell_type": "code",
   "execution_count": 1,
   "metadata": {},
   "outputs": [],
   "source": [
    "import numpy as np\n",
    "from keras import datasets\n",
    "from keras import models, layers\n",
    "from keras.utils import np_utils # one hot encoding"
   ]
  },
  {
   "cell_type": "code",
   "execution_count": 2,
   "metadata": {},
   "outputs": [],
   "source": [
    "# 1. DataLoader\n",
    "(X_train, y_train), (X_test, y_test)=datasets.mnist.load_data()"
   ]
  },
  {
   "cell_type": "code",
   "execution_count": 3,
   "metadata": {},
   "outputs": [
    {
     "data": {
      "text/plain": [
       "(60000, 28, 28)"
      ]
     },
     "execution_count": 3,
     "metadata": {},
     "output_type": "execute_result"
    }
   ],
   "source": [
    "# print(X_train[10])\n",
    "# print(y_train[10])\n",
    "X_train.shape\n",
    "# y_train.shape"
   ]
  },
  {
   "cell_type": "code",
   "execution_count": 4,
   "metadata": {},
   "outputs": [],
   "source": [
    "# 2. X 입력 데이타 전처리\n",
    "L,W,H = X_train.shape\n",
    "\n",
    "X_train = X_train.reshape(-1, W * H) # 1차원으로 펼쳤다..60000, 784\n",
    "X_test = X_test.reshape(-1, W * H) # 10000, 784\n",
    "\n"
   ]
  },
  {
   "cell_type": "code",
   "execution_count": 5,
   "metadata": {},
   "outputs": [],
   "source": [
    "X_train = X_train/255\n",
    "X_test = X_test/255\n",
    "\n",
    "# print(X_train[0])"
   ]
  },
  {
   "cell_type": "code",
   "execution_count": 6,
   "metadata": {},
   "outputs": [
    {
     "name": "stdout",
     "output_type": "stream",
     "text": [
      "3\n",
      "4\n",
      "****************************************\n",
      "[0. 0. 0. 1. 0. 0. 0. 0. 0. 0.]\n",
      "[0. 0. 0. 0. 0. 0. 0. 0. 0. 1.]\n"
     ]
    }
   ],
   "source": [
    "# 3.  Y 입력 데이타 전처리\n",
    "'''\n",
    "output에서는 총 10개의 카테고리가 있다.\n",
    "각각의 노드에서 이미지에 해당하는 예측값을 0~1사이의 확률분포로...\n",
    "One Hot Encoding...np_utils.to_categorical()함수 사용한다.\n",
    "'''\n",
    "\n",
    "print(y_train[30])\n",
    "print(y_train[9])\n",
    "\n",
    "Y_train = np_utils.to_categorical(y_train)\n",
    "Y_test = np_utils.to_categorical(y_test)\n",
    "\n",
    "print('*'* 40)\n",
    "print(Y_train[30])\n",
    "print(Y_test[9])"
   ]
  },
  {
   "cell_type": "code",
   "execution_count": 7,
   "metadata": {},
   "outputs": [],
   "source": [
    "# 4. Setting Hyperparameter\n",
    "input_size = 28 * 28\n",
    "hidden_size = 100\n",
    "num_classes = 10\n",
    "epochs = 10\n",
    "batch_size=100"
   ]
  },
  {
   "cell_type": "code",
   "execution_count": 8,
   "metadata": {},
   "outputs": [],
   "source": [
    "# 5. Model Generator\n",
    "model=  models.Sequential()\n",
    "model.add(layers.Dense(hidden_size, activation='relu', input_shape=(input_size,)))\n",
    "model.add(layers.Dense(num_classes, activation='softmax'))"
   ]
  },
  {
   "cell_type": "code",
   "execution_count": 9,
   "metadata": {},
   "outputs": [],
   "source": [
    "# 6. compile\n",
    "model.compile('sgd','categorical_crossentropy', metrics=['accuracy'])"
   ]
  },
  {
   "cell_type": "code",
   "execution_count": 10,
   "metadata": {},
   "outputs": [
    {
     "name": "stdout",
     "output_type": "stream",
     "text": [
      "Epoch 1/10\n",
      "480/480 [==============================] - 1s 2ms/step - loss: 1.1504 - accuracy: 0.7197 - val_loss: 0.6270 - val_accuracy: 0.8581\n",
      "Epoch 2/10\n",
      "480/480 [==============================] - 1s 2ms/step - loss: 0.5522 - accuracy: 0.8618 - val_loss: 0.4459 - val_accuracy: 0.8848\n",
      "Epoch 3/10\n",
      "480/480 [==============================] - 1s 2ms/step - loss: 0.4417 - accuracy: 0.8830 - val_loss: 0.3846 - val_accuracy: 0.8961\n",
      "Epoch 4/10\n",
      "480/480 [==============================] - 1s 2ms/step - loss: 0.3933 - accuracy: 0.8924 - val_loss: 0.3525 - val_accuracy: 0.9031\n",
      "Epoch 5/10\n",
      "480/480 [==============================] - 1s 2ms/step - loss: 0.3646 - accuracy: 0.8982 - val_loss: 0.3318 - val_accuracy: 0.9080\n",
      "Epoch 6/10\n",
      "480/480 [==============================] - 1s 2ms/step - loss: 0.3445 - accuracy: 0.9039 - val_loss: 0.3168 - val_accuracy: 0.9118\n",
      "Epoch 7/10\n",
      "480/480 [==============================] - 1s 2ms/step - loss: 0.3294 - accuracy: 0.9074 - val_loss: 0.3042 - val_accuracy: 0.9160\n",
      "Epoch 8/10\n",
      "480/480 [==============================] - 1s 2ms/step - loss: 0.3170 - accuracy: 0.9111 - val_loss: 0.2948 - val_accuracy: 0.9182\n",
      "Epoch 9/10\n",
      "480/480 [==============================] - 1s 2ms/step - loss: 0.3064 - accuracy: 0.9134 - val_loss: 0.2861 - val_accuracy: 0.9201\n",
      "Epoch 10/10\n",
      "480/480 [==============================] - 1s 2ms/step - loss: 0.2971 - accuracy: 0.9159 - val_loss: 0.2790 - val_accuracy: 0.9217\n"
     ]
    },
    {
     "data": {
      "text/plain": [
       "<tensorflow.python.keras.callbacks.History at 0x1f4d335a908>"
      ]
     },
     "execution_count": 10,
     "metadata": {},
     "output_type": "execute_result"
    }
   ],
   "source": [
    "# 7. 학습을 진행...fit()\n",
    "model.fit(X_train, Y_train, epochs=epochs, batch_size=batch_size, validation_split=0.2)"
   ]
  },
  {
   "cell_type": "code",
   "execution_count": 11,
   "metadata": {},
   "outputs": [
    {
     "name": "stdout",
     "output_type": "stream",
     "text": [
      "100/100 [==============================] - 0s 1ms/step - loss: 0.2805 - accuracy: 0.9205\n",
      "loss:0.28050485253334045, accuracy:0.9204999804496765\n"
     ]
    }
   ],
   "source": [
    "# 8. 평가하기\n",
    "model_performance=model.evaluate(X_test, Y_test, batch_size=batch_size)\n",
    "print('loss:{}, accuracy:{}'.format(*model_performance))"
   ]
  },
  {
   "cell_type": "code",
   "execution_count": 12,
   "metadata": {},
   "outputs": [
    {
     "name": "stdout",
     "output_type": "stream",
     "text": [
      "Epoch 1/10\n",
      "480/480 [==============================] - 1s 2ms/step - loss: 0.2889 - accuracy: 0.9182 - val_loss: 0.2712 - val_accuracy: 0.9242\n",
      "Epoch 2/10\n",
      "480/480 [==============================] - 1s 2ms/step - loss: 0.2812 - accuracy: 0.9205 - val_loss: 0.2652 - val_accuracy: 0.9261\n",
      "Epoch 3/10\n",
      "480/480 [==============================] - 1s 2ms/step - loss: 0.2740 - accuracy: 0.9221 - val_loss: 0.2592 - val_accuracy: 0.9280\n",
      "Epoch 4/10\n",
      "480/480 [==============================] - 1s 2ms/step - loss: 0.2672 - accuracy: 0.9244 - val_loss: 0.2533 - val_accuracy: 0.9285\n",
      "Epoch 5/10\n",
      "480/480 [==============================] - 1s 2ms/step - loss: 0.2607 - accuracy: 0.9264 - val_loss: 0.2480 - val_accuracy: 0.9302\n",
      "Epoch 6/10\n",
      "480/480 [==============================] - 1s 2ms/step - loss: 0.2543 - accuracy: 0.9283 - val_loss: 0.2432 - val_accuracy: 0.9320\n",
      "Epoch 7/10\n",
      "480/480 [==============================] - 1s 2ms/step - loss: 0.2483 - accuracy: 0.9298 - val_loss: 0.2379 - val_accuracy: 0.9324\n",
      "Epoch 8/10\n",
      "480/480 [==============================] - 1s 2ms/step - loss: 0.2427 - accuracy: 0.9315 - val_loss: 0.2331 - val_accuracy: 0.9352\n",
      "Epoch 9/10\n",
      "480/480 [==============================] - 1s 2ms/step - loss: 0.2372 - accuracy: 0.9334 - val_loss: 0.2293 - val_accuracy: 0.9358\n",
      "Epoch 10/10\n",
      "480/480 [==============================] - 1s 2ms/step - loss: 0.2322 - accuracy: 0.9345 - val_loss: 0.2243 - val_accuracy: 0.9361\n"
     ]
    }
   ],
   "source": [
    "## 9. 시각화\n",
    "# fit, 트레이닝할때 나오는 로그 메세지들을 다 모아서 리턴...history\n",
    "\n",
    "import matplotlib.pyplot as plt\n",
    "\n",
    "def plot_loss(history):\n",
    "    plt.plot(history.history['loss'])\n",
    "    plt.plot(history.history['val_loss'])\n",
    "    plt.title('Model Loss')\n",
    "    plt.ylabel('Loss')\n",
    "    plt.xlabel('Epoch')\n",
    "    \n",
    "    plt.legend(['Training', 'Validation'])\n",
    "    \n",
    "def plot_acc(history):\n",
    "    plt.plot(history.history['accuracy'])\n",
    "    plt.plot(history.history['val_accuracy'])\n",
    "    plt.title('Model Accuracy')\n",
    "    plt.ylabel('Accuracy')\n",
    "    plt.xlabel('Epoch')\n",
    "    \n",
    "    plt.legend(['Training', 'Validation'])\n",
    "    \n",
    "history=model.fit(X_train, Y_train, epochs=epochs, batch_size=batch_size, validation_split=0.2)"
   ]
  },
  {
   "cell_type": "code",
   "execution_count": 14,
   "metadata": {},
   "outputs": [
    {
     "data": {
      "image/png": "[encoded data removed]",
      "text/plain": [
       "<Figure size 432x288 with 1 Axes>"
      ]
     },
     "metadata": {
      "needs_background": "light"
     },
     "output_type": "display_data"
    }
   ],
   "source": [
    "plot_loss(history)"
   ]
  },
  {
   "cell_type": "code",
   "execution_count": 15,
   "metadata": {},
   "outputs": [
    {
     "data": {
      "image/png": "[encoded data removed]",
      "text/plain": [
       "<Figure size 432x288 with 1 Axes>"
      ]
     },
     "metadata": {
      "needs_background": "light"
     },
     "output_type": "display_data"
    }
   ],
   "source": [
    "plot_acc(history)"
   ]
  }
 ],
 "metadata": {
  "kernelspec": {
   "display_name": "Python 3",
   "language": "python",
   "name": "python3"
  },
  "language_info": {
   "codemirror_mode": {
    "name": "ipython",
    "version": 3
   },
   "file_extension": ".py",
   "mimetype": "text/x-python",
   "name": "python",
   "nbconvert_exporter": "python",
   "pygments_lexer": "ipython3",
   "version": "3.7.7"
  }
 },
 "nbformat": 4,
 "nbformat_minor": 4
}
