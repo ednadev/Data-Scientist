{
 "cells": [
  {
   "cell_type": "markdown",
   "metadata": {},
   "source": [
    "## 선형회귀(Linear Regression) - 심화"
   ]
  },
  {
   "cell_type": "markdown",
   "metadata": {},
   "source": [
    "#### Linear Regression을 활용하여 섭씨온도(C, Celsius)를 화씨온도(F, Fahrenheit)로 변환해주는 공식을 만들수 있다. \n",
    "섭씨온도과 화씨온도의 관계는 앞에서 우리가 살펴보았던 선형회귀의 관계를 가지고 있다.\n",
    "#### H(x) = aX + b 에서처럼, F = C*1.8 +32 \n",
    "이때, 1.8과 32라는 값을 모르고 있다고 가정하고, 머신러닝 알고리즘을 이용해서 주어진 섭씨 온도와 화씨온도 데이타 만으로 이 값들을 찾아내는 실습을 진행해보도록 하겠다.\n",
    "Chain Rule 증명 ----> 구글 검색 하면 여기에 사용되는 증명 공식들,,미분, 편미분..공식들이 나온다.참조바람"
   ]
  },
  {
   "cell_type": "markdown",
   "metadata": {},
   "source": [
    "### Configuration (or prerequisite)"
   ]
  },
  {
   "cell_type": "code",
   "execution_count": 1,
   "metadata": {},
   "outputs": [],
   "source": [
    "import numpy as np\n",
    "import pandas as pd\n",
    "import matplotlib.pyplot as plt"
   ]
  },
  {
   "cell_type": "markdown",
   "metadata": {},
   "source": [
    "### Generate Dataset"
   ]
  },
  {
   "cell_type": "markdown",
   "metadata": {},
   "source": [
    "#### 선형회귀 문제를 다루기 위한 학습용 데이타셋을 생성\n",
    "0도에서 100도 사이의 값을 갖는 섭씨온도 데이타를 100개 만들어보자\n",
    "이 데이타가 해당 머신러닝 알고리즘에서 사실상 Feature가 될 것이다."
   ]
  },
  {
   "cell_type": "markdown",
   "metadata": {},
   "source": [
    "### 섭씨온도 데이타에 상응하는 화씨온도를 생성\n",
    "#### 우리가 알고있던 기존의 섭씨-화씨변환 공식을 적용해서 위 섭씨온도 데이타에 대응하는 화씨온도 데이타를 생성. \n",
    "이 데이타가 오늘 다룰 학습 모델 알고리즘의 Label이 될 것이다."
   ]
  },
  {
   "cell_type": "markdown",
   "metadata": {},
   "source": [
    "### Bias (편향 찾기) -- Weight는 1.8"
   ]
  },
  {
   "cell_type": "markdown",
   "metadata": {},
   "source": [
    "#### Weight는 1.8로 주고 Bias를 직관적으로 한번 찾아보겠다."
   ]
  },
  {
   "cell_type": "code",
   "execution_count": 3,
   "metadata": {},
   "outputs": [
    {
     "data": {
      "text/plain": [
       "array([ 97,  99,  21,  84,  50,  15,  57,  58,  48,  30,  45,  26,  88,\n",
       "        87,  39,  99,  67,  58,  63,  31,  40,  43,  67,  79,  41,  90,\n",
       "        60,  19,  50,  46,  27,  97,  93,  95,  53,  30,  75,  76,  88,\n",
       "        10,  41,   5,  31,  58,   3,  22,  66,  11,  92,  19,  21,  40,\n",
       "        27, 100,  52,  23, 100,  34,  84,  20,  34,  75,   7,   7,  68,\n",
       "        11,  75,  75,  57,  41,   8,  71,  87,  96,  68,  69,  51,  86,\n",
       "        42,  94,  76,   4,  54,  98,  69,  75,  26,  38,   6,  11,  49,\n",
       "        79,  28,  42,  12,  54,  84,   9,  53,  57])"
      ]
     },
     "execution_count": 3,
     "metadata": {},
     "output_type": "execute_result"
    }
   ],
   "source": [
    "C = np.random.randint(low=1, high=101, size=100)\n",
    "C"
   ]
  },
  {
   "cell_type": "code",
   "execution_count": 6,
   "metadata": {},
   "outputs": [
    {
     "name": "stdout",
     "output_type": "stream",
     "text": [
      "(100,)\n"
     ]
    },
    {
     "data": {
      "text/plain": [
       "array([97, 99, 21, 84, 50, 15, 57, 58, 48, 30])"
      ]
     },
     "execution_count": 6,
     "metadata": {},
     "output_type": "execute_result"
    }
   ],
   "source": [
    "print(C.shape)\n",
    "C[:10]"
   ]
  },
  {
   "cell_type": "markdown",
   "metadata": {},
   "source": [
    "#### 섭씨온도에 상응하는 화씨온도를 생성\n",
    "    우리가 알고있는 기존의 섭씨-화씨 변환공식을 적용하기 위해서 화씨 온도를 생성\n",
    "    이 데이타가 오늘 다룰 학습모델의 라벨이 된다"
   ]
  },
  {
   "cell_type": "code",
   "execution_count": 7,
   "metadata": {},
   "outputs": [
    {
     "data": {
      "text/plain": [
       "array([206.6, 210.2,  69.8, 183.2, 122. ,  59. , 134.6, 136.4, 118.4,\n",
       "        86. , 113. ,  78.8, 190.4, 188.6, 102.2, 210.2, 152.6, 136.4,\n",
       "       145.4,  87.8, 104. , 109.4, 152.6, 174.2, 105.8, 194. , 140. ,\n",
       "        66.2, 122. , 114.8,  80.6, 206.6, 199.4, 203. , 127.4,  86. ,\n",
       "       167. , 168.8, 190.4,  50. , 105.8,  41. ,  87.8, 136.4,  37.4,\n",
       "        71.6, 150.8,  51.8, 197.6,  66.2,  69.8, 104. ,  80.6, 212. ,\n",
       "       125.6,  73.4, 212. ,  93.2, 183.2,  68. ,  93.2, 167. ,  44.6,\n",
       "        44.6, 154.4,  51.8, 167. , 167. , 134.6, 105.8,  46.4, 159.8,\n",
       "       188.6, 204.8, 154.4, 156.2, 123.8, 186.8, 107.6, 201.2, 168.8,\n",
       "        39.2, 129.2, 208.4, 156.2, 167. ,  78.8, 100.4,  42.8,  51.8,\n",
       "       120.2, 174.2,  82.4, 107.6,  53.6, 129.2, 183.2,  48.2, 127.4,\n",
       "       134.6])"
      ]
     },
     "execution_count": 7,
     "metadata": {},
     "output_type": "execute_result"
    }
   ],
   "source": [
    "F = C * 1.8 + 32\n",
    "F"
   ]
  },
  {
   "cell_type": "code",
   "execution_count": 8,
   "metadata": {},
   "outputs": [
    {
     "name": "stdout",
     "output_type": "stream",
     "text": [
      "(100,)\n"
     ]
    },
    {
     "data": {
      "text/plain": [
       "array([206.6, 210.2,  69.8, 183.2, 122. ,  59. , 134.6, 136.4, 118.4,\n",
       "        86. ])"
      ]
     },
     "execution_count": 8,
     "metadata": {},
     "output_type": "execute_result"
    }
   ],
   "source": [
    "print(F.shape)\n",
    "F[:10]"
   ]
  },
  {
   "cell_type": "markdown",
   "metadata": {},
   "source": [
    "### Visualization\n",
    "    위에서 우리가 만든 Feature와 Label을 직관적으로 확인할 수 있는 선형을 일단 그려놓자"
   ]
  },
  {
   "cell_type": "code",
   "execution_count": 9,
   "metadata": {},
   "outputs": [
    {
     "data": {
      "image/png": "[encoded data removed]",
      "text/plain": [
       "<Figure size 432x288 with 1 Axes>"
      ]
     },
     "metadata": {
      "needs_background": "light"
     },
     "output_type": "display_data"
    }
   ],
   "source": [
    "plt.scatter(C, F)\n",
    "plt.xlabel('Celsius Temperature')\n",
    "plt.ylabel('Fahrenheit Temperature')\n",
    "plt.show()"
   ]
  },
  {
   "cell_type": "markdown",
   "metadata": {},
   "source": [
    "### Bias(편향찾기) -- Weight는 1.8"
   ]
  },
  {
   "cell_type": "code",
   "execution_count": 32,
   "metadata": {},
   "outputs": [],
   "source": [
    "X = C\n",
    "y = F # 라벨이라서 소문자 표시..."
   ]
  },
  {
   "cell_type": "code",
   "execution_count": 35,
   "metadata": {},
   "outputs": [
    {
     "data": {
      "text/plain": [
       "(1.8, -0.32706728284132747)"
      ]
     },
     "execution_count": 35,
     "metadata": {},
     "output_type": "execute_result"
    }
   ],
   "source": [
    "w = 1.8 # 이 값은 고정\n",
    "b = np.random.uniform(low=-1.0, high=+1.0)\n",
    "\n",
    "w, b"
   ]
  },
  {
   "cell_type": "code",
   "execution_count": 36,
   "metadata": {},
   "outputs": [
    {
     "data": {
      "text/plain": [
       "array([174.27293272, 177.87293272,  37.47293272, 150.87293272,\n",
       "        89.67293272,  26.67293272, 102.27293272, 104.07293272,\n",
       "        86.07293272,  53.67293272])"
      ]
     },
     "execution_count": 36,
     "metadata": {},
     "output_type": "execute_result"
    }
   ],
   "source": [
    "y_predict = w * X + b\n",
    "y_predict[:10]"
   ]
  },
  {
   "cell_type": "code",
   "execution_count": 38,
   "metadata": {},
   "outputs": [
    {
     "data": {
      "image/png": "[encoded data removed]",
      "text/plain": [
       "<Figure size 432x288 with 1 Axes>"
      ]
     },
     "metadata": {
      "needs_background": "light"
     },
     "output_type": "display_data"
    }
   ],
   "source": [
    "plt.scatter(C,F)\n",
    "plt.plot(C, y_predict, c='r')\n",
    "plt.show()"
   ]
  },
  {
   "cell_type": "markdown",
   "metadata": {},
   "source": [
    "### Bias 보정"
   ]
  },
  {
   "cell_type": "code",
   "execution_count": 44,
   "metadata": {},
   "outputs": [
    {
     "data": {
      "text/plain": [
       "32.0"
      ]
     },
     "execution_count": 44,
     "metadata": {},
     "output_type": "execute_result"
    }
   ],
   "source": [
    "# b = b - (y_predict - y).mean() #mean안해주면 동일한 값이 100개 나온다..\n",
    "b -= (y_predict - y).mean()\n",
    "b"
   ]
  },
  {
   "cell_type": "markdown",
   "metadata": {},
   "source": [
    "#### 새로운 예측"
   ]
  },
  {
   "cell_type": "code",
   "execution_count": 45,
   "metadata": {},
   "outputs": [
    {
     "data": {
      "text/plain": [
       "array([206.6, 210.2,  69.8, 183.2, 122. ,  59. , 134.6, 136.4, 118.4,\n",
       "        86. ])"
      ]
     },
     "execution_count": 45,
     "metadata": {},
     "output_type": "execute_result"
    }
   ],
   "source": [
    "y_predict = w * X + b\n",
    "y_predict[:10]"
   ]
  },
  {
   "cell_type": "code",
   "execution_count": 46,
   "metadata": {},
   "outputs": [
    {
     "data": {
      "image/png": "[encoded data removed]",
      "text/plain": [
       "<Figure size 432x288 with 1 Axes>"
      ]
     },
     "metadata": {
      "needs_background": "light"
     },
     "output_type": "display_data"
    }
   ],
   "source": [
    "plt.scatter(C,F)\n",
    "plt.plot(C, y_predict, c='r')\n",
    "plt.show()"
   ]
  },
  {
   "cell_type": "markdown",
   "metadata": {},
   "source": [
    "### 정규분포에 해당하는 weight, bias값을 랜덤하게 초기화\n",
    "    실제값과 예측한 결과값 사이에 오차가 발생할 것이다.\n",
    "    오차를 줄여가야한다...Loss Function이 0에 가가워지도록 학습을 진행해야한다."
   ]
  },
  {
   "cell_type": "code",
   "execution_count": 54,
   "metadata": {},
   "outputs": [
    {
     "data": {
      "text/plain": [
       "(0.8180941343887658, -0.25540532966450535)"
      ]
     },
     "execution_count": 54,
     "metadata": {},
     "output_type": "execute_result"
    }
   ],
   "source": [
    "w = np.random.uniform(low=-1.0, high=1.0)\n",
    "b = np.random.uniform(low=-1.0, high=1.0)\n",
    "w, b"
   ]
  },
  {
   "cell_type": "code",
   "execution_count": 55,
   "metadata": {},
   "outputs": [
    {
     "data": {
      "text/plain": [
       "array([79.09972571, 80.73591397, 16.92457149, 68.46450196, 40.64930139,\n",
       "       12.01600669, 46.37596033, 47.19405446, 39.01311312, 24.2874187 ])"
      ]
     },
     "execution_count": 55,
     "metadata": {},
     "output_type": "execute_result"
    }
   ],
   "source": [
    "y_predict = w * X + b\n",
    "y_predict[:10]"
   ]
  },
  {
   "cell_type": "code",
   "execution_count": 56,
   "metadata": {},
   "outputs": [
    {
     "data": {
      "image/png": "[encoded data removed]",
      "text/plain": [
       "<Figure size 432x288 with 1 Axes>"
      ]
     },
     "metadata": {
      "needs_background": "light"
     },
     "output_type": "display_data"
    }
   ],
   "source": [
    "plt.scatter(C,F)\n",
    "plt.plot(C, y_predict, c='r')\n",
    "plt.show()"
   ]
  },
  {
   "cell_type": "markdown",
   "metadata": {},
   "source": [
    "### Gradient Descent"
   ]
  },
  {
   "cell_type": "markdown",
   "metadata": {},
   "source": [
    "### 가중치(Weight, W), 편향(Bias, B) 찾기\n",
    "#### 이제 경사하강법(Gradient Descent)을 사용하여 섭씨온도를 화씨온도로 변환해줄 주 있는 공식을 찾아보겠다.\n",
    "공식의 세부내용은 모른다치고, 두 변수(X,y)가 선형(Linear)과 관계있음을 가정(y=X * w + b)하여 가중치(weight)와 편차(bias)를 정의해 둔다. 그리고 경사하강법을 이용해서 선형회귀를 학습시킨다.\n",
    "학습이 완료되면, 얻어진 최적의 가중치와 편차로 섭씨온도를 화씨온도로 변환해주는 공식을 만들어 줄수 있다.\n",
    "학습은 모든 epoch이 끝날 때까지 반복할 수도 있지만, 여기선 오차(error)가 0.1 이하가 되면 학습을 종료하도록 한다."
   ]
  },
  {
   "cell_type": "code",
   "execution_count": 63,
   "metadata": {},
   "outputs": [
    {
     "name": "stdout",
     "output_type": "stream",
     "text": [
      "    0 w=2.380, b=-0.454, error=83.185\n",
      "10000 w=2.037, b=15.841, error=6.508\n",
      "20000 w=1.918, b=23.955, error=3.240\n",
      "30000 w=1.859, b=27.994, error=1.613\n",
      "40000 w=1.829, b=30.006, error=0.803\n",
      "50000 w=1.815, b=31.007, error=0.400\n",
      "60000 w=1.807, b=31.506, error=0.199\n",
      "------------------------------------------------------------------------------------------\n",
      "69877 w=1.804, b=31.75170289385801, error=0.100\n"
     ]
    }
   ],
   "source": [
    "num_epoch = 100000 # 학습 횟수\n",
    "'''\n",
    "이 값이 작을수록 더욱 w, b값이 미세하게 조정\n",
    "학습하는 시간이 더 오래걸린다...더 최적의 값을 찾을수 있다.\n",
    "'''\n",
    "learning_rate = 0.0003 \n",
    "w = np.random.uniform(low=-1.0, high=1.0)\n",
    "b = np.random.uniform(low=-1.0, high=1.0)\n",
    "\n",
    "for epoch in range(num_epoch):\n",
    "    y_predict = w * X + b\n",
    "    \n",
    "    # 현재 오차를 구한다.\n",
    "    error = np.abs(y_predict - y).mean()\n",
    "    \n",
    "    if error < 0.1:\n",
    "        break\n",
    "        \n",
    "    # Backpropagation..? (이건 어떻게 해야할지)\n",
    "    # w, b값을 보정해 나간다...미분, 편미분.\n",
    "    ## learning_rate * 9 ((y_predict-y) * X).mean()\n",
    "    w = w-learning_rate * ((y_predict - y) * X).mean()\n",
    "    b = b-learning_rate * (y_predict - y).mean()\n",
    "    \n",
    "    # 10000회마다 epoch,w,b,error(loss)를 출력해서 점점값들이 어떤 양상을...\n",
    "    if epoch % 10000 == 0:\n",
    "        print(f'{epoch:5} w={w:.3f}, b={b:.3f}, error={error:.3f}')\n",
    "print('---'*30)\n",
    "print(f'{epoch:5} w={w:.3f}, b={b:}, error={error:.3f}')"
   ]
  },
  {
   "cell_type": "markdown",
   "metadata": {},
   "source": [
    "### Predict"
   ]
  },
  {
   "cell_type": "code",
   "execution_count": 65,
   "metadata": {},
   "outputs": [
    {
     "data": {
      "text/plain": [
       "array([206.70476419, 210.31204381,  69.62813885, 183.2574467 ,\n",
       "       121.93369325,  58.8063    , 134.55917191, 136.36281171,\n",
       "       118.32641364,  85.86089711])"
      ]
     },
     "execution_count": 65,
     "metadata": {},
     "output_type": "execute_result"
    }
   ],
   "source": [
    "y_predict = w * C + b\n",
    "y_predict[:10]"
   ]
  },
  {
   "cell_type": "markdown",
   "metadata": {},
   "source": [
    "### Visualization"
   ]
  },
  {
   "cell_type": "code",
   "execution_count": 66,
   "metadata": {},
   "outputs": [
    {
     "data": {
      "text/html": [
       "<div>\n",
       "<style scoped>\n",
       "    .dataframe tbody tr th:only-of-type {\n",
       "        vertical-align: middle;\n",
       "    }\n",
       "\n",
       "    .dataframe tbody tr th {\n",
       "        vertical-align: top;\n",
       "    }\n",
       "\n",
       "    .dataframe thead th {\n",
       "        text-align: right;\n",
       "    }\n",
       "</style>\n",
       "<table border=\"1\" class=\"dataframe\">\n",
       "  <thead>\n",
       "    <tr style=\"text-align: right;\">\n",
       "      <th></th>\n",
       "      <th>C</th>\n",
       "      <th>F</th>\n",
       "      <th>F(predict)</th>\n",
       "    </tr>\n",
       "  </thead>\n",
       "  <tbody>\n",
       "    <tr>\n",
       "      <th>0</th>\n",
       "      <td>97</td>\n",
       "      <td>206.6</td>\n",
       "      <td>206.704764</td>\n",
       "    </tr>\n",
       "    <tr>\n",
       "      <th>1</th>\n",
       "      <td>99</td>\n",
       "      <td>210.2</td>\n",
       "      <td>210.312044</td>\n",
       "    </tr>\n",
       "    <tr>\n",
       "      <th>2</th>\n",
       "      <td>21</td>\n",
       "      <td>69.8</td>\n",
       "      <td>69.628139</td>\n",
       "    </tr>\n",
       "    <tr>\n",
       "      <th>3</th>\n",
       "      <td>84</td>\n",
       "      <td>183.2</td>\n",
       "      <td>183.257447</td>\n",
       "    </tr>\n",
       "    <tr>\n",
       "      <th>4</th>\n",
       "      <td>50</td>\n",
       "      <td>122.0</td>\n",
       "      <td>121.933693</td>\n",
       "    </tr>\n",
       "    <tr>\n",
       "      <th>5</th>\n",
       "      <td>15</td>\n",
       "      <td>59.0</td>\n",
       "      <td>58.806300</td>\n",
       "    </tr>\n",
       "    <tr>\n",
       "      <th>6</th>\n",
       "      <td>57</td>\n",
       "      <td>134.6</td>\n",
       "      <td>134.559172</td>\n",
       "    </tr>\n",
       "    <tr>\n",
       "      <th>7</th>\n",
       "      <td>58</td>\n",
       "      <td>136.4</td>\n",
       "      <td>136.362812</td>\n",
       "    </tr>\n",
       "    <tr>\n",
       "      <th>8</th>\n",
       "      <td>48</td>\n",
       "      <td>118.4</td>\n",
       "      <td>118.326414</td>\n",
       "    </tr>\n",
       "    <tr>\n",
       "      <th>9</th>\n",
       "      <td>30</td>\n",
       "      <td>86.0</td>\n",
       "      <td>85.860897</td>\n",
       "    </tr>\n",
       "  </tbody>\n",
       "</table>\n",
       "</div>"
      ],
      "text/plain": [
       "    C      F  F(predict)\n",
       "0  97  206.6  206.704764\n",
       "1  99  210.2  210.312044\n",
       "2  21   69.8   69.628139\n",
       "3  84  183.2  183.257447\n",
       "4  50  122.0  121.933693\n",
       "5  15   59.0   58.806300\n",
       "6  57  134.6  134.559172\n",
       "7  58  136.4  136.362812\n",
       "8  48  118.4  118.326414\n",
       "9  30   86.0   85.860897"
      ]
     },
     "execution_count": 66,
     "metadata": {},
     "output_type": "execute_result"
    }
   ],
   "source": [
    "result = pd.DataFrame({'C': C, 'F': F, 'F(predict)':y_predict})\n",
    "result.head(10)"
   ]
  },
  {
   "cell_type": "code",
   "execution_count": 68,
   "metadata": {},
   "outputs": [
    {
     "data": {
      "text/plain": [
       "[<matplotlib.lines.Line2D at 0x2400513cf88>]"
      ]
     },
     "execution_count": 68,
     "metadata": {},
     "output_type": "execute_result"
    },
    {
     "data": {
      "image/png": "[encoded data removed]",
      "text/plain": [
       "<Figure size 432x288 with 1 Axes>"
      ]
     },
     "metadata": {
      "needs_background": "light"
     },
     "output_type": "display_data"
    }
   ],
   "source": [
    "plt.scatter(C, F)\n",
    "plt.plot(C, y_predict, c='r')"
   ]
  },
  {
   "cell_type": "markdown",
   "metadata": {},
   "source": [
    "#### 선형 회귀의 학습이 끝났으면, 이제 이 머신러닝 알고리즘을 활용하여 변환공식을 완성하고, 주어진 섭씨온도를 화씨온도로 변환(혹은 섭씨온도로 화씨온도를 예측)할 수 있습니다. 앞서 만들어준 데이터를 그대로 활용하여 주어진 섭씨온도(C)로 화씨온도를 예측해보겠습니다."
   ]
  },
  {
   "cell_type": "code",
   "execution_count": null,
   "metadata": {},
   "outputs": [],
   "source": []
  }
 ],
 "metadata": {
  "kernelspec": {
   "display_name": "Python 3",
   "language": "python",
   "name": "python3"
  },
  "language_info": {
   "codemirror_mode": {
    "name": "ipython",
    "version": 3
   },
   "file_extension": ".py",
   "mimetype": "text/x-python",
   "name": "python",
   "nbconvert_exporter": "python",
   "pygments_lexer": "ipython3",
   "version": "3.7.7"
  }
 },
 "nbformat": 4,
 "nbformat_minor": 4
}
