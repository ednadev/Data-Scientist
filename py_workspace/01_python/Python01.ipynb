{
 "cells": [
  {
   "cell_type": "markdown",
   "metadata": {},
   "source": [
    "## 변수와 데이타 타입\n",
    "#### 파이썬에서의 데이타 타입들"
   ]
  },
  {
   "cell_type": "code",
   "execution_count": null,
   "metadata": {},
   "outputs": [],
   "source": [
    "'''\n",
    "파이썬에서의 데이터 타입들\n",
    "int - 정수\n",
    "float - 실수\n",
    "bool - False, True\n",
    "str - 문자열\n",
    "list - 순서가 있는 값들의 집합\n",
    "tuple - 순서가 있는 값들의 집합...변경불가\n",
    "set - 순서가 없고 중복이 안되는 값들의 집합\n",
    "dic - 키와 값으로 데이타를 저장\n",
    "'''"
   ]
  },
  {
   "cell_type": "code",
   "execution_count": 3,
   "metadata": {},
   "outputs": [
    {
     "name": "stdout",
     "output_type": "stream",
     "text": [
      "Hello Python\n"
     ]
    }
   ],
   "source": [
    "str = \"Hello Python\"\n",
    "print(str)\n",
    "# str"
   ]
  },
  {
   "cell_type": "code",
   "execution_count": 7,
   "metadata": {},
   "outputs": [
    {
     "name": "stdout",
     "output_type": "stream",
     "text": [
      "3\n",
      "3.5\n",
      "Hello\n",
      "**************************************************\n",
      "<class 'int'>\n",
      "<class 'float'>\n",
      "<class 'str'>\n"
     ]
    }
   ],
   "source": [
    "a = 3\n",
    "b = 3.5\n",
    "c = 'Hello'\n",
    "print(a)\n",
    "print(b)\n",
    "print(c)\n",
    "print('*'*50)\n",
    "print(type(a))\n",
    "print(type(b))\n",
    "print(type(c))"
   ]
  },
  {
   "cell_type": "code",
   "execution_count": 12,
   "metadata": {},
   "outputs": [
    {
     "name": "stdout",
     "output_type": "stream",
     "text": [
      "당신의 나이를 입력하세요11\n",
      "나이 11\n",
      "<class 'str'>\n"
     ]
    }
   ],
   "source": [
    "'''\n",
    "input() 을 통해서 값을 입력받아보자...\n",
    "'''\n",
    "data = input('당신의 나이를 입력하세요')\n",
    "print('나이', data)\n",
    "print(type(data))"
   ]
  },
  {
   "cell_type": "code",
   "execution_count": 14,
   "metadata": {},
   "outputs": [
    {
     "name": "stdout",
     "output_type": "stream",
     "text": [
      "True\n",
      "False\n"
     ]
    }
   ],
   "source": [
    "d = 3\n",
    "e = 3.0\n",
    "print(d == e)\n",
    "print(type(d)==type(e))"
   ]
  },
  {
   "cell_type": "markdown",
   "metadata": {},
   "source": [
    "## 연산자와 포메팅"
   ]
  },
  {
   "cell_type": "code",
   "execution_count": 18,
   "metadata": {
    "scrolled": true
   },
   "outputs": [
    {
     "name": "stdout",
     "output_type": "stream",
     "text": [
      "1.6666666666666667\n",
      "1\n"
     ]
    },
    {
     "data": {
      "text/plain": [
       "2"
      ]
     },
     "execution_count": 18,
     "metadata": {},
     "output_type": "execute_result"
    }
   ],
   "source": [
    "num1 = 5\n",
    "num2 = 3\n",
    "print(num1/num2) #결과가 float로 반환\n",
    "print(num1//num2) # num1을 num2로 나눈 몫을 구함...int\n",
    "remain = num1 % num2 # int로 반환\n",
    "remain"
   ]
  },
  {
   "cell_type": "code",
   "execution_count": 19,
   "metadata": {
    "collapsed": true
   },
   "outputs": [
    {
     "data": {
      "text/plain": [
       "['__abs__',\n",
       " '__add__',\n",
       " '__and__',\n",
       " '__bool__',\n",
       " '__ceil__',\n",
       " '__class__',\n",
       " '__delattr__',\n",
       " '__dir__',\n",
       " '__divmod__',\n",
       " '__doc__',\n",
       " '__eq__',\n",
       " '__float__',\n",
       " '__floor__',\n",
       " '__floordiv__',\n",
       " '__format__',\n",
       " '__ge__',\n",
       " '__getattribute__',\n",
       " '__getnewargs__',\n",
       " '__gt__',\n",
       " '__hash__',\n",
       " '__index__',\n",
       " '__init__',\n",
       " '__init_subclass__',\n",
       " '__int__',\n",
       " '__invert__',\n",
       " '__le__',\n",
       " '__lshift__',\n",
       " '__lt__',\n",
       " '__mod__',\n",
       " '__mul__',\n",
       " '__ne__',\n",
       " '__neg__',\n",
       " '__new__',\n",
       " '__or__',\n",
       " '__pos__',\n",
       " '__pow__',\n",
       " '__radd__',\n",
       " '__rand__',\n",
       " '__rdivmod__',\n",
       " '__reduce__',\n",
       " '__reduce_ex__',\n",
       " '__repr__',\n",
       " '__rfloordiv__',\n",
       " '__rlshift__',\n",
       " '__rmod__',\n",
       " '__rmul__',\n",
       " '__ror__',\n",
       " '__round__',\n",
       " '__rpow__',\n",
       " '__rrshift__',\n",
       " '__rshift__',\n",
       " '__rsub__',\n",
       " '__rtruediv__',\n",
       " '__rxor__',\n",
       " '__setattr__',\n",
       " '__sizeof__',\n",
       " '__str__',\n",
       " '__sub__',\n",
       " '__subclasshook__',\n",
       " '__truediv__',\n",
       " '__trunc__',\n",
       " '__xor__',\n",
       " 'bit_length',\n",
       " 'conjugate',\n",
       " 'denominator',\n",
       " 'from_bytes',\n",
       " 'imag',\n",
       " 'numerator',\n",
       " 'real',\n",
       " 'to_bytes']"
      ]
     },
     "execution_count": 19,
     "metadata": {},
     "output_type": "execute_result"
    }
   ],
   "source": [
    "'''\n",
    "파이썬의 모든 변수는 객체이다.\n",
    "그렇기 때문에 당연히 속성과 메소드가 있다.\n",
    "이중에서 타입을 변경하는 함수....\n",
    "'''\n",
    "dir(num1)"
   ]
  },
  {
   "cell_type": "code",
   "execution_count": 24,
   "metadata": {},
   "outputs": [
    {
     "data": {
      "text/plain": [
       "111"
      ]
     },
     "execution_count": 24,
     "metadata": {},
     "output_type": "execute_result"
    }
   ],
   "source": [
    "# 형변환 함수\n",
    "'''\n",
    "int()\n",
    "float()\n",
    "str()\n",
    "list()\n",
    "tuple()\n",
    "'''\n",
    "int(True)\n",
    "int(False)\n",
    "int(e)\n",
    "float(a)\n",
    "round(44.78)\n",
    "int('111')"
   ]
  },
  {
   "cell_type": "code",
   "execution_count": 25,
   "metadata": {},
   "outputs": [
    {
     "name": "stdout",
     "output_type": "stream",
     "text": [
      "James 의 나이는  55 살 입니다.\n"
     ]
    }
   ],
   "source": [
    "name = 'James'\n",
    "age = 55\n",
    "print(name, '의 나이는 ', age, '살 입니다.')"
   ]
  },
  {
   "cell_type": "code",
   "execution_count": 28,
   "metadata": {},
   "outputs": [
    {
     "name": "stdout",
     "output_type": "stream",
     "text": [
      "정수입력11\n",
      "<class 'str'>\n",
      "<class 'int'>\n",
      "11\n"
     ]
    }
   ],
   "source": [
    "num3 = input('정수입력')\n",
    "print(type(num3)) #str\n",
    "num4 = int(num3)\n",
    "print(type(num4)) #int\n",
    "print(num4)"
   ]
  },
  {
   "cell_type": "markdown",
   "metadata": {},
   "source": [
    "### 문제 1."
   ]
  },
  {
   "cell_type": "code",
   "execution_count": 52,
   "metadata": {},
   "outputs": [
    {
     "name": "stdout",
     "output_type": "stream",
     "text": [
      "초를 입력하세요\n",
      "3700\n",
      "3700 초는 1 시간 1 분 40 초 입니다.\n",
      "3700 초는 1 시간 1 분 40 초 입니다.\n"
     ]
    }
   ],
   "source": [
    "# 키보드로부터 초를 입력받아 다음과 같이 출력합니다...ex)3700\n",
    "# 3700초는 1시간 1분 40초 입니다.....가 출력되도록.\n",
    "\n",
    "second = int(input('초를 입력하세요\\n'))\n",
    "second\n",
    "hour = second//3300\n",
    "hour\n",
    "minute = second % 3600 // 60\n",
    "minute\n",
    "sec1 = second % 60\n",
    "sec1\n",
    "print(second, '초는', hour, '시간', minute, '분', sec1, '초 입니다.')\n",
    "\n",
    "#포멧팅을 사용해서 동일한 결과를 출력하세요\n",
    "print('%d 초는 %d 시간 %d 분 %d 초 입니다.' % (second, hour, minute, sec1))"
   ]
  },
  {
   "cell_type": "code",
   "execution_count": 40,
   "metadata": {},
   "outputs": [
    {
     "name": "stdout",
     "output_type": "stream",
     "text": [
      "True\n",
      "False\n",
      "1707009980336\n",
      "1707009979792\n"
     ]
    }
   ],
   "source": [
    "'''\n",
    "Immutable 타입으로는\n",
    "Tuple, 숫자(int, float), str\n",
    "'''\n",
    "a = 257\n",
    "b = 257\n",
    "print(a==b)\n",
    "\n",
    "print(a is b)\n",
    "print(id(a))\n",
    "print(id(b))"
   ]
  },
  {
   "cell_type": "code",
   "execution_count": 43,
   "metadata": {},
   "outputs": [
    {
     "name": "stdout",
     "output_type": "stream",
     "text": [
      "True\n",
      "True\n",
      "140736769800816\n",
      "140736769800816\n"
     ]
    }
   ],
   "source": [
    "'''\n",
    "-5~256(메모리를 효율적으로 활용하기 위해서)\n",
    "이 범위에 있는 값은 한번 객체를 만들고나서는 다시 만들지 않는다..\n",
    "'''\n",
    "a = 200\n",
    "b = 200\n",
    "\n",
    "print(a==b)\n",
    "print(a is b)\n",
    "print(id(a))\n",
    "print(id(b))"
   ]
  },
  {
   "cell_type": "code",
   "execution_count": 45,
   "metadata": {},
   "outputs": [
    {
     "name": "stdout",
     "output_type": "stream",
     "text": [
      "hello\n",
      "hello\n",
      "\n",
      "            This is\n",
      "            MyStr3 Test\n",
      "                    hello...\n",
      "         \n"
     ]
    }
   ],
   "source": [
    "# 문자열...literal...작은 따옴표(') 또는 큰 따옴표(\"\")로 둘러싸서 만들수 있다.\n",
    "# 문자열을 여러줄로 만들어줄 경우... 그때도 사용한다.\n",
    "myStr1 = 'hello'\n",
    "myStr2 = \"hello\"\n",
    "myStr3 = '''\n",
    "            This is\n",
    "            MyStr3 Test\n",
    "                    hello...\n",
    "         '''\n",
    "print(myStr1)\n",
    "print(myStr2)\n",
    "print(myStr3)"
   ]
  },
  {
   "cell_type": "code",
   "execution_count": 51,
   "metadata": {},
   "outputs": [
    {
     "name": "stdout",
     "output_type": "stream",
     "text": [
      "손흥민의 나이는 28살, 이번 경기 평점은 9.57점 입니다.\n",
      "오늘은 2020년 7월 6일 입니다.\n"
     ]
    }
   ],
   "source": [
    "# formating\n",
    "# 1. \n",
    "name = '손흥민'\n",
    "age = 28\n",
    "grade = 9.567\n",
    "print('%s의 나이는 %d살, 이번 경기 평점은 %.2f점 입니다.' % (name, age, grade))\n",
    "\n",
    "# 2.\n",
    "import time\n",
    "now = time.localtime()\n",
    "print('오늘은 %d년 %d월 %d일 입니다.' % (now.tm_year, now.tm_mon, now.tm_mday))"
   ]
  }
 ],
 "metadata": {
  "kernelspec": {
   "display_name": "Python 3",
   "language": "python",
   "name": "python3"
  },
  "language_info": {
   "codemirror_mode": {
    "name": "ipython",
    "version": 3
   },
   "file_extension": ".py",
   "mimetype": "text/x-python",
   "name": "python",
   "nbconvert_exporter": "python",
   "pygments_lexer": "ipython3",
   "version": "3.7.6"
  }
 },
 "nbformat": 4,
 "nbformat_minor": 4
}
