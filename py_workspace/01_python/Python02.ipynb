{
 "cells": [
  {
   "cell_type": "markdown",
   "metadata": {},
   "source": [
    "## 문자열\n",
    "### 인덱스, 슬라이싱"
   ]
  },
  {
   "cell_type": "code",
   "execution_count": 1,
   "metadata": {},
   "outputs": [
    {
     "name": "stdout",
     "output_type": "stream",
     "text": [
      "20180522\n",
      "Rainy\n",
      "20180522Rainy\n"
     ]
    }
   ],
   "source": [
    "# PDF Page 2-40..슬라이싱 해서 문자열 추출하기\n",
    "\n",
    "strdata = '20180522Rainy'\n",
    "data = strdata[0:8]\n",
    "print(data)\n",
    "weather = strdata[8:]\n",
    "print(weather)\n",
    "all = strdata[:]\n",
    "print(all)"
   ]
  },
  {
   "cell_type": "code",
   "execution_count": 2,
   "metadata": {},
   "outputs": [
    {
     "name": "stdout",
     "output_type": "stream",
     "text": [
      "['기생충', ' 1987', ' 킹덤', ' 스타워즈', ' 쥬라기공원']\n",
      "기생충, 1987, 킹덤, 스타워즈, 쥬라기공원\n"
     ]
    }
   ],
   "source": [
    "# split() 함수와 join() 함수의 사용방법\n",
    "# split() 를 통해서 쪼개어진 문자열들은 리스트 형태로 반환 \n",
    "# join()은 특정한 구분자로 나눠져있는 리스트자료형을 하나의 문자열로 만들어서 반환\n",
    "\n",
    "movies = '기생충, 1987, 킹덤, 스타워즈, 쥬라기공원'\n",
    "movieL = movies.split(',')\n",
    "print(movieL) #[]\n",
    "\n",
    "movie = ','\n",
    "movie = movie.join(movieL)\n",
    "print(movie)"
   ]
  },
  {
   "cell_type": "markdown",
   "metadata": {},
   "source": [
    "\n",
    "### 리스트 생성, 수정, 삭제, 추가"
   ]
  },
  {
   "cell_type": "code",
   "execution_count": 3,
   "metadata": {},
   "outputs": [
    {
     "data": {
      "text/plain": [
       "[2, 5, 3, 10, 4]"
      ]
     },
     "execution_count": 3,
     "metadata": {},
     "output_type": "execute_result"
    }
   ],
   "source": [
    "#1. 리스트 생성\n",
    "myList = [2, 5, 3, 10, 4]\n",
    "myList1 = []\n",
    "myList2 = list()\n",
    "\n",
    "len(myList1)\n",
    "len(myList2)\n",
    "len(myList)\n",
    "\n",
    "myList1.extend(myList) # 확장됨.\n",
    "myList1"
   ]
  },
  {
   "cell_type": "code",
   "execution_count": 4,
   "metadata": {},
   "outputs": [
    {
     "data": {
      "text/plain": [
       "[2, 5, 3, -10, 4]"
      ]
     },
     "execution_count": 4,
     "metadata": {},
     "output_type": "execute_result"
    }
   ],
   "source": [
    "#2. 수정\n",
    "myList\n",
    "myList[3] = -10\n",
    "myList"
   ]
  },
  {
   "cell_type": "code",
   "execution_count": 5,
   "metadata": {},
   "outputs": [
    {
     "data": {
      "text/plain": [
       "[2, 5, 3, -10, 4, 888]"
      ]
     },
     "execution_count": 5,
     "metadata": {},
     "output_type": "execute_result"
    }
   ],
   "source": [
    "#3. 추가....append(), insert()\n",
    "# myList.append(100) #맨 뒷부분에 추가됨\n",
    "# myList\n",
    "\n",
    "# 가장 마지막에 888을 추가 (-1 사용 X)\n",
    "myList.insert(len(myList), 888)\n",
    "myList"
   ]
  },
  {
   "cell_type": "code",
   "execution_count": 6,
   "metadata": {},
   "outputs": [
    {
     "data": {
      "text/plain": [
       "'\\ndel : 인덱스로 삭제\\nremove : 삭제할 값을 직접 입력\\npop : 맨마지막 값을 삭제한 후 그 값을 리턴함\\n'"
      ]
     },
     "execution_count": 6,
     "metadata": {},
     "output_type": "execute_result"
    }
   ],
   "source": [
    "# 4. 삭제하기\n",
    "'''\n",
    "del : 인덱스로 삭제\n",
    "remove : 삭제할 값을 직접 입력\n",
    "pop : 맨마지막 값을 삭제한 후 그 값을 리턴함\n",
    "'''"
   ]
  },
  {
   "cell_type": "code",
   "execution_count": 7,
   "metadata": {},
   "outputs": [
    {
     "data": {
      "text/plain": [
       "[2, 5, 3, -10, 4, 888]"
      ]
     },
     "execution_count": 7,
     "metadata": {},
     "output_type": "execute_result"
    }
   ],
   "source": [
    "myList"
   ]
  },
  {
   "cell_type": "code",
   "execution_count": 8,
   "metadata": {},
   "outputs": [
    {
     "data": {
      "text/plain": [
       "[2, 5, 3, 4, 888]"
      ]
     },
     "execution_count": 8,
     "metadata": {},
     "output_type": "execute_result"
    }
   ],
   "source": [
    "del myList[3]\n",
    "myList"
   ]
  },
  {
   "cell_type": "code",
   "execution_count": 9,
   "metadata": {},
   "outputs": [],
   "source": [
    "# del myList[4:7]\n",
    "# myList"
   ]
  },
  {
   "cell_type": "code",
   "execution_count": 10,
   "metadata": {},
   "outputs": [
    {
     "data": {
      "text/plain": [
       "[2, 5, 3, 888]"
      ]
     },
     "execution_count": 10,
     "metadata": {},
     "output_type": "execute_result"
    }
   ],
   "source": [
    "myList.remove(4)\n",
    "myList"
   ]
  },
  {
   "cell_type": "code",
   "execution_count": 11,
   "metadata": {},
   "outputs": [
    {
     "data": {
      "text/plain": [
       "888"
      ]
     },
     "execution_count": 11,
     "metadata": {},
     "output_type": "execute_result"
    }
   ],
   "source": [
    "myList.pop()"
   ]
  },
  {
   "cell_type": "markdown",
   "metadata": {},
   "source": [
    "### 리스트에서 값 추출하기"
   ]
  },
  {
   "cell_type": "code",
   "execution_count": 12,
   "metadata": {},
   "outputs": [
    {
     "data": {
      "text/plain": [
       "[2, [10, 20, 30], 3]"
      ]
     },
     "execution_count": 12,
     "metadata": {},
     "output_type": "execute_result"
    }
   ],
   "source": [
    "myList\n",
    "yourList = [10, 20, 30]\n",
    "myList[1] = yourList\n",
    "myList"
   ]
  },
  {
   "cell_type": "code",
   "execution_count": 13,
   "metadata": {},
   "outputs": [
    {
     "name": "stdout",
     "output_type": "stream",
     "text": [
      "[2, 3]\n",
      "[1, 2, 3]\n",
      "[1, 2, 3]\n",
      "[5, 6, 7, 8]\n",
      "[5, 6, 7, 8]\n",
      "[6, 7, 8]\n"
     ]
    },
    {
     "data": {
      "text/plain": [
       "[8, 7, 6, 5, 4, 3, 2, 1]"
      ]
     },
     "execution_count": 13,
     "metadata": {},
     "output_type": "execute_result"
    }
   ],
   "source": [
    "myList = [1, 2, 3, 4, 5, 6, 7, 8]\n",
    "# 슬라이싱을 써서 직접 작성...\n",
    "# 1. 2,3\n",
    "print(myList[1:3])\n",
    "\n",
    "# 2. 1,2,3\n",
    "print(myList[0:3])\n",
    "print(myList[:3])\n",
    "\n",
    "# 3. 5,6,7,8\n",
    "print(myList[4:9])\n",
    "print(myList[4:])\n",
    "\n",
    "# 4. 6,7,8\n",
    "print(myList[-3:])\n",
    "\n",
    "myList.sort(reverse=True)\n",
    "myList"
   ]
  },
  {
   "cell_type": "code",
   "execution_count": 14,
   "metadata": {},
   "outputs": [
    {
     "name": "stdout",
     "output_type": "stream",
     "text": [
      "all\t data\t movie\t movieL\t movies\t myList\t myList1\t myList2\t strdata\t \n",
      "weather\t yourList\t \n"
     ]
    }
   ],
   "source": [
    "'''\n",
    "매직명령어\n",
    "% 로 시작한다.\n",
    "%whos : 지금까지 사용한 객체변수명과 그에 해당하는 간단한 정보를 확인\n",
    "%who : 지금까지 사용한 객체변수 의 리스트만 보여줌\n",
    "'''\n",
    "# %whos\n",
    "%who"
   ]
  },
  {
   "cell_type": "code",
   "execution_count": 15,
   "metadata": {},
   "outputs": [
    {
     "data": {
      "text/plain": [
       "'\\n동일한 이름의 변수 선언시 메모리에서 찾는 순서\\n1) 로컬변수 로컬영역에 저장  ----- 여기를 가장 먼저 찾는다.\\n2) 전역변수는 전역영역에 저장  --- 여기를 2번째로 찾는다.\\n3) 내장변수는 내장영역에 저장  --- 여기를 가장 마지막으로 찾는다.\\n--> 함수명과 객체변수명을 동일한 이름으로 사용하지 말아라\\n--> restart를 해줘서 이전 메모리것들을 지우고 다시 올리자.\\n\\n'"
      ]
     },
     "execution_count": 15,
     "metadata": {},
     "output_type": "execute_result"
    }
   ],
   "source": [
    "'''\n",
    "동일한 이름의 변수 선언시 메모리에서 찾는 순서\n",
    "1) 로컬변수 로컬영역에 저장  ----- 여기를 가장 먼저 찾는다.\n",
    "2) 전역변수는 전역영역에 저장  --- 여기를 2번째로 찾는다.\n",
    "3) 내장변수는 내장영역에 저장  --- 여기를 가장 마지막으로 찾는다.\n",
    "--> 함수명과 객체변수명을 동일한 이름으로 사용하지 말아라\n",
    "--> restart를 해줘서 이전 메모리것들을 지우고 다시 올리자.\n",
    "\n",
    "'''"
   ]
  },
  {
   "cell_type": "code",
   "execution_count": 17,
   "metadata": {},
   "outputs": [
    {
     "name": "stdout",
     "output_type": "stream",
     "text": [
      "['a', 'b', 'c', 'd']\n"
     ]
    }
   ],
   "source": [
    "aaL = list('abcd')\n",
    "print(aaL)\n",
    "\n",
    "# list = [3, 4, 5]\n",
    "# print(list)\n",
    "\n",
    "# listData = [3, 4, 5]\n",
    "# print(listData)"
   ]
  },
  {
   "cell_type": "markdown",
   "metadata": {},
   "source": [
    "### 문제2"
   ]
  },
  {
   "cell_type": "code",
   "execution_count": 33,
   "metadata": {},
   "outputs": [
    {
     "data": {
      "text/plain": [
       "[2, 4, 5, 3, 1]"
      ]
     },
     "execution_count": 33,
     "metadata": {},
     "output_type": "execute_result"
    }
   ],
   "source": [
    "# (2-52) [1, 3, 5, 4, 2] 라는 리스트를 슬라이싱을 이용하여 [2, 4, 5, 3, 1]로 출력해 보자 (reverse 함수 사용하지 말고)\n",
    "\n",
    "a = [1, 3, 5, 4, 2]\n",
    "a[::-1]"
   ]
  },
  {
   "cell_type": "markdown",
   "metadata": {},
   "source": [
    "### 문제3"
   ]
  },
  {
   "cell_type": "code",
   "execution_count": 30,
   "metadata": {},
   "outputs": [
    {
     "name": "stdout",
     "output_type": "stream",
     "text": [
      "\u001b[1mPython is too interesting\n"
     ]
    }
   ],
   "source": [
    "# (2-52) ['Python', 'is', 'too', 'interesting'] 라는 리스트를 Python is too interesting 이라는 문자열로 만들어 출력해 보자\n",
    "\n",
    "b = ['Python', 'is', 'too', 'interesting']\n",
    "bstr = ' '.join(b)\n",
    "print('\\033[1m' + bstr)"
   ]
  }
 ],
 "metadata": {
  "kernelspec": {
   "display_name": "Python 3",
   "language": "python",
   "name": "python3"
  },
  "language_info": {
   "codemirror_mode": {
    "name": "ipython",
    "version": 3
   },
   "file_extension": ".py",
   "mimetype": "text/x-python",
   "name": "python",
   "nbconvert_exporter": "python",
   "pygments_lexer": "ipython3",
   "version": "3.7.6"
  }
 },
 "nbformat": 4,
 "nbformat_minor": 4
}
