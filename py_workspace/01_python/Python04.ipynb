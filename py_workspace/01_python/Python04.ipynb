{
 "cells": [
  {
   "cell_type": "markdown",
   "metadata": {},
   "source": [
    "### 조건문, 제어문(if, elif, else)"
   ]
  },
  {
   "cell_type": "code",
   "execution_count": 1,
   "metadata": {},
   "outputs": [
    {
     "name": "stdout",
     "output_type": "stream",
     "text": [
      "a is 3\n"
     ]
    }
   ],
   "source": [
    "a = 3\n",
    "if a%2==0:\n",
    "    print('even')\n",
    "else:\n",
    "    if(a==1):\n",
    "        print('a is 1')\n",
    "    elif(a==3):\n",
    "        print('a is 3')"
   ]
  },
  {
   "cell_type": "markdown",
   "metadata": {},
   "source": [
    "#### 문제 1 (PDF 2-69)\n",
    "#### 키보드로 성적을 입력받고 해당하는 성적이 몇등급인지를 판별해서 출력"
   ]
  },
  {
   "cell_type": "code",
   "execution_count": 2,
   "metadata": {},
   "outputs": [
    {
     "name": "stdout",
     "output_type": "stream",
     "text": [
      "성적입력94\n",
      "A Grade\n"
     ]
    }
   ],
   "source": [
    "grade = int(input('성적입력'))\n",
    "\n",
    "\n",
    "if grade>=90:\n",
    "    print('A Grade')\n",
    "elif grade>=80 and grade<90:\n",
    "    print('B Grade')\n",
    "elif grade>=70 & grade<80:\n",
    "    print('C Grade')\n",
    "else:\n",
    "    print('Try Again')"
   ]
  },
  {
   "cell_type": "markdown",
   "metadata": {},
   "source": [
    "### 반복문(for, while) --- range() 함께"
   ]
  },
  {
   "cell_type": "code",
   "execution_count": 3,
   "metadata": {},
   "outputs": [
    {
     "name": "stdout",
     "output_type": "stream",
     "text": [
      "신비한 동물사전\n",
      "조커\n",
      "기생충\n",
      "타임패러독스\n",
      "******************************\n",
      "신비한 동물사전\n",
      "조커\n",
      "기생충\n",
      "타임패러독스\n"
     ]
    }
   ],
   "source": [
    "movieL = ['신비한 동물사전', '조커', '기생충', '타임패러독스']\n",
    "\n",
    "#1.\n",
    "for m in movieL:\n",
    "    print(m)\n",
    "    \n",
    "print('*'*30)\n",
    "\n",
    "#2. range사용\n",
    "for idx in range(len(movieL)): #range(4), 0,1,2,3\n",
    "    print(movieL[idx])"
   ]
  },
  {
   "cell_type": "markdown",
   "metadata": {},
   "source": [
    "### 문제2\n",
    "### 키보드로 값 입력받고 입력한 값의 전체합을 구하세요\n",
    "#### 입력한 값들은 3,4,5,6 으로 하자"
   ]
  },
  {
   "cell_type": "code",
   "execution_count": 4,
   "metadata": {},
   "outputs": [
    {
     "name": "stdout",
     "output_type": "stream",
     "text": [
      "키보드로 값 4개 입력하세요. 3,4,5,6\n",
      "18\n"
     ]
    }
   ],
   "source": [
    "data = input('키보드로 값 4개 입력하세요. ').split(',')\n",
    "total = 0\n",
    "\n",
    "#1.\n",
    "# for i in data:\n",
    "#     total += int(i)\n",
    "# print('총합 : ', total)\n",
    "\n",
    "#2.\n",
    "# for i in range(len(data)): #range(4)  range(0,4)\n",
    "#     total += int(data[i])\n",
    "# print('총합 : ', total)\n",
    "\n",
    "#3.\n",
    "intData = [int(i) for i in data]\n",
    "print(sum(intData))"
   ]
  },
  {
   "cell_type": "markdown",
   "metadata": {},
   "source": [
    "#### 문제 3."
   ]
  },
  {
   "cell_type": "code",
   "execution_count": 5,
   "metadata": {},
   "outputs": [
    {
     "data": {
      "text/plain": [
       "\"\\nnumlist = [5, 10, 11, 3, 2, 100]\\nnumlist 데이타를 이용해서 다음과 같이 출력하세요\\n['홀', '짝', '홀', '홀', '짝', '짝']\\n\""
      ]
     },
     "execution_count": 5,
     "metadata": {},
     "output_type": "execute_result"
    }
   ],
   "source": [
    "'''\n",
    "numlist = [5, 10, 11, 3, 2, 100]\n",
    "numlist 데이타를 이용해서 다음과 같이 출력하세요\n",
    "['홀', '짝', '홀', '홀', '짝', '짝']\n",
    "'''"
   ]
  },
  {
   "cell_type": "code",
   "execution_count": 6,
   "metadata": {},
   "outputs": [],
   "source": [
    "numlist = [5, 10, 11, 3, 2, 100]"
   ]
  },
  {
   "cell_type": "code",
   "execution_count": 7,
   "metadata": {},
   "outputs": [
    {
     "name": "stdout",
     "output_type": "stream",
     "text": [
      "['홀', '짝', '홀', '홀', '짝', '짝']\n"
     ]
    }
   ],
   "source": [
    "for idx in range(len(numlist)):\n",
    "    if numlist[idx]%2==0 :\n",
    "        numlist[idx] = '짝'\n",
    "    else:\n",
    "        numlist[idx] = '홀'\n",
    "print(numlist)"
   ]
  },
  {
   "cell_type": "code",
   "execution_count": 8,
   "metadata": {},
   "outputs": [
    {
     "ename": "TypeError",
     "evalue": "not all arguments converted during string formatting",
     "output_type": "error",
     "traceback": [
      "\u001b[1;31m---------------------------------------------------------------------------\u001b[0m",
      "\u001b[1;31mTypeError\u001b[0m                                 Traceback (most recent call last)",
      "\u001b[1;32m<ipython-input-8-3ff85097b188>\u001b[0m in \u001b[0;36m<module>\u001b[1;34m\u001b[0m\n\u001b[0;32m      3\u001b[0m \u001b[1;33m\u001b[0m\u001b[0m\n\u001b[0;32m      4\u001b[0m \u001b[1;32mfor\u001b[0m \u001b[0mi\u001b[0m \u001b[1;32min\u001b[0m \u001b[0mnumlist\u001b[0m\u001b[1;33m:\u001b[0m\u001b[1;33m\u001b[0m\u001b[1;33m\u001b[0m\u001b[0m\n\u001b[1;32m----> 5\u001b[1;33m     \u001b[1;32mif\u001b[0m \u001b[0mi\u001b[0m\u001b[1;33m%\u001b[0m\u001b[1;36m2\u001b[0m\u001b[1;33m==\u001b[0m\u001b[1;36m0\u001b[0m\u001b[1;33m:\u001b[0m\u001b[1;33m\u001b[0m\u001b[1;33m\u001b[0m\u001b[0m\n\u001b[0m\u001b[0;32m      6\u001b[0m         \u001b[0mstrList\u001b[0m\u001b[1;33m.\u001b[0m\u001b[0mappend\u001b[0m\u001b[1;33m(\u001b[0m\u001b[1;34m'짝'\u001b[0m\u001b[1;33m)\u001b[0m\u001b[1;33m\u001b[0m\u001b[1;33m\u001b[0m\u001b[0m\n\u001b[0;32m      7\u001b[0m     \u001b[1;32melse\u001b[0m\u001b[1;33m:\u001b[0m\u001b[1;33m\u001b[0m\u001b[1;33m\u001b[0m\u001b[0m\n",
      "\u001b[1;31mTypeError\u001b[0m: not all arguments converted during string formatting"
     ]
    }
   ],
   "source": [
    "# 강사님 답\n",
    "strList = list() #[ ]\n",
    "\n",
    "for i in numlist:\n",
    "    if i%2==0:\n",
    "        strList.append('짝')\n",
    "    else:\n",
    "        strList.append('홀')\n",
    "print(strList)"
   ]
  },
  {
   "cell_type": "code",
   "execution_count": null,
   "metadata": {},
   "outputs": [],
   "source": [
    "# 2\n",
    "resultList = ['짝' if i%2==0 else '홀' for i in numlist]\n",
    "print(resultList)"
   ]
  },
  {
   "cell_type": "markdown",
   "metadata": {},
   "source": [
    "## 이차원 배열에 for문 사용하기, 이중 for문"
   ]
  },
  {
   "cell_type": "code",
   "execution_count": null,
   "metadata": {},
   "outputs": [],
   "source": [
    "for i in range(0,5):\n",
    "    print(i, end=' ')"
   ]
  },
  {
   "cell_type": "code",
   "execution_count": null,
   "metadata": {},
   "outputs": [],
   "source": [
    "matrix = [[1,2,3],[4,5,6],[7,8,9,10]]\n",
    "len(matrix)\n",
    "matrix"
   ]
  },
  {
   "cell_type": "code",
   "execution_count": null,
   "metadata": {},
   "outputs": [],
   "source": [
    "'''\n",
    "문제 1)\n",
    "[1,2,3]\n",
    "[4,5,6]\n",
    "[7,8,9,10] 이 출력되도록...\n",
    "'''"
   ]
  },
  {
   "cell_type": "code",
   "execution_count": null,
   "metadata": {},
   "outputs": [],
   "source": [
    "#1. \n",
    "for i in matrix:\n",
    "    print(i)\n",
    "print('*'*30)\n",
    "\n",
    "#2. len()사용해서...\n",
    "for i in range(len(matrix)):\n",
    "    print(matrix[i])\n",
    "print('*'*30)\n",
    "\n",
    "#3.\n",
    "for i in range(len(matrix)): #range(0,3)..0,1,2\n",
    "    for j in range(len(matrix[i])):\n",
    "        print(matrix[i][j], end=' ')\n",
    "    print()\n",
    "print('*'*30)\n",
    "\n",
    "#4.\n",
    "for row in matrix:\n",
    "    for col in row:\n",
    "        print(col, end=' ')\n",
    "    print()"
   ]
  },
  {
   "cell_type": "markdown",
   "metadata": {},
   "source": [
    "### While문"
   ]
  },
  {
   "cell_type": "code",
   "execution_count": null,
   "metadata": {},
   "outputs": [],
   "source": [
    "'''\n",
    "1부터 100까지의 합을 구한다.\n",
    "조건을 2가지 둔다\n",
    "1) whle i<101  2) while true\n",
    "'''\n",
    "# 1)\n",
    "i = 1\n",
    "total1 = 0\n",
    "while i<101:\n",
    "    total1 += i\n",
    "    i = i+1\n",
    "\n",
    "print('101 까지의 총합 : ', total1)\n",
    "print('*' * 30)\n",
    "\n",
    "j = 1\n",
    "total2 = 0\n",
    "while True:\n",
    "    if j==101:\n",
    "        break\n",
    "    total2 += j\n",
    "    j = j+1\n",
    "print('101 까지의 총합 : ', total2)"
   ]
  },
  {
   "cell_type": "code",
   "execution_count": null,
   "metadata": {},
   "outputs": [],
   "source": [
    "# continue, break, pass키워드\n",
    "for i in range(10):\n",
    "    if i==2:\n",
    "        print('continue...loop....', i)\n",
    "        continue\n",
    "    if i==6:\n",
    "        print('break...loop....', i)\n",
    "        break\n",
    "    if i==4:\n",
    "#         print('pass...loop....', i)\n",
    "        pass\n",
    "    print(i)"
   ]
  },
  {
   "cell_type": "markdown",
   "metadata": {},
   "source": [
    "### 문제 Number Guess..번호 맞추기 게임"
   ]
  },
  {
   "cell_type": "code",
   "execution_count": null,
   "metadata": {},
   "outputs": [],
   "source": [
    "'''\n",
    "랜덤한 숫자 하나를 지정...random.randrange()..44\n",
    "키보드로 특정한 숫자를 입력받아서 ...int(input())...17. 47\n",
    "\n",
    "- 입력된 값이 더 작으면 작습니다...\n",
    "- 입력된 값이 더 크면 큽니다...\n",
    "- 정답입니다..\n",
    "- 총 3번만에 정답을 맞췄습니다.\n",
    "\n",
    "continue, break 라는 키워드가 사용됩니다..\n",
    "\n",
    "'''"
   ]
  },
  {
   "cell_type": "code",
   "execution_count": 15,
   "metadata": {},
   "outputs": [
    {
     "name": "stdout",
     "output_type": "stream",
     "text": [
      "1부터 20 사이의 숫자 하나를 입력하세요...11\n",
      "11 숫자가 9보다 큽니다 \n",
      "1부터 20 사이의 숫자 하나를 입력하세요...14\n",
      "정답 14 딩동댕~~~!!! 시도한 횟수는 2번 만에 성공 \n"
     ]
    }
   ],
   "source": [
    "import random\n",
    "\n",
    "count = 0\n",
    "while True:\n",
    "    com = random.randrange(1, 21) # 1~20까지의 임의의 정수가 리턴...\n",
    "    num = int(input('1부터 20 사이의 숫자 하나를 입력하세요...'))\n",
    "    count = count + 1\n",
    "    # if(숫자 넘 큽니다), elif(숫자 넘 작습니다), else(정답)..%\n",
    "    if num > com:\n",
    "        print('%d 숫자가 %d보다 큽니다 ' % (num, com))\n",
    "    elif num < com:\n",
    "        print('%d 숫자가 %d보다 작습니다 ' % (num, com))\n",
    "    else:\n",
    "        print('정답 %d 딩동댕~~~!!! 시도한 횟수는 %d번 만에 성공 ' %(num, count))\n",
    "        break"
   ]
  }
 ],
 "metadata": {
  "kernelspec": {
   "display_name": "Python 3",
   "language": "python",
   "name": "python3"
  },
  "language_info": {
   "codemirror_mode": {
    "name": "ipython",
    "version": 3
   },
   "file_extension": ".py",
   "mimetype": "text/x-python",
   "name": "python",
   "nbconvert_exporter": "python",
   "pygments_lexer": "ipython3",
   "version": "3.7.6"
  }
 },
 "nbformat": 4,
 "nbformat_minor": 4
}
