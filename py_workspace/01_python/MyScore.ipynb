{
 "cells": [
  {
   "cell_type": "code",
   "execution_count": null,
   "metadata": {},
   "outputs": [],
   "source": [
    "'''\n",
    "MyScore 는 5개의 함수를 가지고 있는 모듈\n",
    "모듈은 반드시 확장자가 py로 끝나야한다.\n",
    "1)File>Download as >Python py 선택\n",
    "2) 매직명령어  %%writefile MyScore.py\n",
    "\n",
    "실행후 python 파일이 하나 만들어진다.\n",
    "\n",
    "참고로 %% 매직명령어는 무조건 코드의 첫부분에 나와야한다.\n",
    "'''"
   ]
  },
  {
   "cell_type": "code",
   "execution_count": 1,
   "metadata": {},
   "outputs": [
    {
     "name": "stdout",
     "output_type": "stream",
     "text": [
      "Writing MyScore.py\n"
     ]
    }
   ],
   "source": [
    "%%writefile MyScore.py\n",
    "def getSum(data):\n",
    "    total = 0\n",
    "    for i in data:\n",
    "        total += i\n",
    "    return total\n",
    "    \n",
    "def getMean(data):\n",
    "    return getSum(data)/len(data)\n",
    "    \n",
    "def getMax(data): # 2,6,8,11\n",
    "    maxV = data[0]\n",
    "    for i in data[1:]:\n",
    "        if i > maxV:\n",
    "            maxV = i\n",
    "    return maxV\n",
    "    \n",
    "def getMin(data):\n",
    "    minV = data[0]\n",
    "    for i in data[1:]:\n",
    "        if i < minV:\n",
    "            minV = i\n",
    "    return minV\n",
    "    \n",
    "def getTwoSum(num2, num1=1): #num1이 더 큰값이 왔을때...\n",
    "    total = 0\n",
    "    if num1>num2:\n",
    "        num1, num2 = num2, num1 #두수를 스왑시킴\n",
    "    for i in range(num1, num2+1):\n",
    "        total += i\n",
    "    return total"
   ]
  }
 ],
 "metadata": {
  "kernelspec": {
   "display_name": "Python 3",
   "language": "python",
   "name": "python3"
  },
  "language_info": {
   "codemirror_mode": {
    "name": "ipython",
    "version": 3
   },
   "file_extension": ".py",
   "mimetype": "text/x-python",
   "name": "python",
   "nbconvert_exporter": "python",
   "pygments_lexer": "ipython3",
   "version": "3.7.6"
  }
 },
 "nbformat": 4,
 "nbformat_minor": 4
}
