{
 "cells": [
  {
   "cell_type": "code",
   "execution_count": 2,
   "metadata": {},
   "outputs": [],
   "source": [
    "from MyScore import getSum, getMean, getMax, getMin, getTwoSum"
   ]
  },
  {
   "cell_type": "code",
   "execution_count": 4,
   "metadata": {},
   "outputs": [
    {
     "name": "stdout",
     "output_type": "stream",
     "text": [
      "값입력1,2,3,4\n",
      "[1, 2, 3, 4]\n",
      "총합 :  10\n",
      "평균 :  2.5\n",
      "최대값 :  4\n",
      "최소값 :  1\n",
      "getTwoSum :  14\n",
      "getTwoSum :  10\n",
      "getTwoSum :  14\n"
     ]
    }
   ],
   "source": [
    "# 1. 값입력\n",
    "dataL = input('값입력').split(',')\n",
    "dataL\n",
    "\n",
    "# intDataL = [int(i) for i in dataL]\n",
    "intDataL = list(map(int, dataL))\n",
    "print(intDataL)\n",
    "\n",
    "# 2. 함수 호출\n",
    "print('총합 : ', getSum(intDataL))\n",
    "print('평균 : ', getMean(intDataL))\n",
    "print('최대값 : ', getMax(intDataL))\n",
    "print('최소값 : ', getMin(intDataL))\n",
    "print('getTwoSum : ', getTwoSum(5,2))\n",
    "print('getTwoSum : ', getTwoSum(4))\n",
    "print('getTwoSum : ', getTwoSum(2,5))"
   ]
  }
 ],
 "metadata": {
  "kernelspec": {
   "display_name": "Python 3",
   "language": "python",
   "name": "python3"
  },
  "language_info": {
   "codemirror_mode": {
    "name": "ipython",
    "version": 3
   },
   "file_extension": ".py",
   "mimetype": "text/x-python",
   "name": "python",
   "nbconvert_exporter": "python",
   "pygments_lexer": "ipython3",
   "version": "3.7.6"
  }
 },
 "nbformat": 4,
 "nbformat_minor": 4
}
