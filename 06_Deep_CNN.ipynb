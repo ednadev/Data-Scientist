{
  "nbformat": 4,
  "nbformat_minor": 0,
  "metadata": {
    "colab": {
      "name": "06_Deep_CNN.ipynb",
      "provenance": [],
      "private_outputs": true,
      "collapsed_sections": [],
      "authorship_tag": "ABX9TyMe6HIdiIPZnPpeMpj8Id76",
      "include_colab_link": true
    },
    "kernelspec": {
      "name": "python3",
      "display_name": "Python 3"
    },
    "accelerator": "GPU"
  },
  "cells": [
    {
      "cell_type": "markdown",
      "metadata": {
        "id": "view-in-github",
        "colab_type": "text"
      },
      "source": [
        "<a href=\"https://colab.research.google.com/github/ednadev/Data-Scientist/blob/master/06_Deep_CNN.ipynb\" target=\"_parent\"><img src=\"https://colab.research.google.com/assets/colab-badge.svg\" alt=\"Open In Colab\"/></a>"
      ]
    },
    {
      "cell_type": "code",
      "metadata": {
        "id": "N6pBlupiMtx9",
        "colab_type": "code",
        "colab": {}
      },
      "source": [
        "import torch\n",
        "import torch.nn as nn\n",
        "import torchvision\n",
        "import torchvision.transforms as transforms\n",
        "\n",
        "import pdb"
      ],
      "execution_count": null,
      "outputs": []
    },
    {
      "cell_type": "code",
      "metadata": {
        "id": "cJlf2XNiNosD",
        "colab_type": "code",
        "colab": {}
      },
      "source": [
        "device = torch.device('cuda' if torch.cuda.is_available() else 'cpu')\n",
        "device"
      ],
      "execution_count": null,
      "outputs": []
    },
    {
      "cell_type": "code",
      "metadata": {
        "id": "U-Kt4sdlOH4Y",
        "colab_type": "code",
        "colab": {}
      },
      "source": [
        "num_epochs = 5\n",
        "num_classes = 10\n",
        "batch_size = 100\n",
        "learning_rate = 0.001"
      ],
      "execution_count": null,
      "outputs": []
    },
    {
      "cell_type": "code",
      "metadata": {
        "id": "_W6lSfEZOTxy",
        "colab_type": "code",
        "colab": {}
      },
      "source": [
        "train_dataset = torchvision.datasets.MNIST(root='../../data/', \n",
        "                                           train=True,\n",
        "                                           transform=transforms.ToTensor(),\n",
        "                                           download=True)\n",
        "\n",
        "test_dataset = torchvision.datasets.MNIST(root='../../data/', \n",
        "                                           train=False,\n",
        "                                           transform=transforms.ToTensor())\n",
        "\n",
        "train_loader = torch.utils.data.DataLoader(dataset=train_dataset,\n",
        "                                           batch_size=batch_size,\n",
        "                                           shuffle=True)\n",
        "\n",
        "test_loader = torch.utils.data.DataLoader(dataset=test_dataset,\n",
        "                                           batch_size=batch_size,\n",
        "                                           shuffle=False)"
      ],
      "execution_count": null,
      "outputs": []
    },
    {
      "cell_type": "code",
      "metadata": {
        "id": "3tTxxF2qQNNM",
        "colab_type": "code",
        "colab": {}
      },
      "source": [
        "class ConvNet(nn.Module):\n",
        "  def __init__(self, num_classes=10):\n",
        "    super(ConvNet, self).__init__()\n",
        "    self.layer1=nn.Sequential(\n",
        "        nn.Conv2d(1, 16, kernel_size=5, stride=1, padding=2),\n",
        "        nn.ReLU())\n",
        "    self.layer2=nn.MaxPool2d(kernel_size=2, stride=2)\n",
        "    self.layer3=nn.Sequential(\n",
        "        nn.Conv2d(16, 32, kernel_size=5, stride=1, padding=2),\n",
        "        nn.ReLU())\n",
        "    self.layer4=nn.MaxPool2d(kernel_size=2, stride=2)\n",
        "    self.layer5=nn.Linear(7*7*32, num_classes)\n",
        "\n",
        "  def forward(self, x):\n",
        "    # 2.\n",
        "    # pdb.set_trace()\n",
        "    out = self.layer1(x)\n",
        "    out = self.layer2(out)\n",
        "    out = self.layer3(out)\n",
        "    out = self.layer4(out)\n",
        "    out = out.reshape(out.size(0), -1) # 2차원을 1차원으로 펼치는 과정\n",
        "    out = self.layer5(out)\n",
        "    return out"
      ],
      "execution_count": null,
      "outputs": []
    },
    {
      "cell_type": "code",
      "metadata": {
        "id": "51MtQ8d7V8rr",
        "colab_type": "code",
        "colab": {}
      },
      "source": [
        "model = ConvNet(num_classes).to(device)"
      ],
      "execution_count": null,
      "outputs": []
    },
    {
      "cell_type": "code",
      "metadata": {
        "id": "HhMQEisoWFCY",
        "colab_type": "code",
        "colab": {}
      },
      "source": [
        "loss_function = nn.CrossEntropyLoss()\n",
        "optimizer = torch.optim.Adam(model.parameters(), lr=learning_rate)"
      ],
      "execution_count": null,
      "outputs": []
    },
    {
      "cell_type": "code",
      "metadata": {
        "id": "e0AEwhCAWVbI",
        "colab_type": "code",
        "colab": {}
      },
      "source": [
        "total_step = len(train_loader) # 600번\n",
        "for epoch in range(num_epochs):\n",
        "  for i, (images, labels) in enumerate(train_loader):\n",
        "    images = images.to(device)\n",
        "    labels = labels.to(device)\n",
        "\n",
        "    #1.\n",
        "    # pdb.set_trace()\n",
        "\n",
        "    preds = model(images)\n",
        "\n",
        "    # 3.\n",
        "    # pdb.set_trace()\n",
        "    loss = loss_function(preds, labels)\n",
        "\n",
        "    optimizer.zero_grad()\n",
        "    loss.backward()\n",
        "\n",
        "    optimizer.step()\n",
        "\n",
        "    if(i+1) % 100 ==0:\n",
        "      print('Epoch [{}/{}], Step [{}/{}], Loss:{:.3f}'.format(epoch+1, num_epochs, i+1, total_step, loss.item()))"
      ],
      "execution_count": null,
      "outputs": []
    },
    {
      "cell_type": "code",
      "metadata": {
        "id": "PDcMNEljYGNc",
        "colab_type": "code",
        "colab": {}
      },
      "source": [
        "model.eval() # 모델을 eval()\n",
        "with torch.no_grad():\n",
        "  correct = 0\n",
        "  total = 0\n",
        "  for images, labels in test_loader:\n",
        "    images = images.to(device)\n",
        "    labels = labels.to(device)\n",
        "    outputs = model(images) # 위에 정의해놓은 forward() 가 호출된다.\n",
        "\n",
        "    _, predicted = torch.max(outputs.data, 1)\n",
        "    total += labels.size(0)\n",
        "    correct += (predicted == labels).sum().item()\n",
        "\n",
        "  print('Test Accuracy : {}%'.format(100 * correct / total))"
      ],
      "execution_count": null,
      "outputs": []
    },
    {
      "cell_type": "code",
      "metadata": {
        "id": "9XjvRbnoZQ_0",
        "colab_type": "code",
        "colab": {}
      },
      "source": [
        "import matplotlib.pyplot as plt\n",
        "import numpy as np"
      ],
      "execution_count": null,
      "outputs": []
    },
    {
      "cell_type": "code",
      "metadata": {
        "id": "RQOztKqqZWpw",
        "colab_type": "code",
        "colab": {}
      },
      "source": [
        "images.shape\n",
        "images[0].size()\n",
        "# 첫번째 이미지의 사이즈\n",
        "images[0,0].size()\n",
        "\n",
        "labels.size()\n",
        "\n",
        "image = np.array(images[0, 0].detach().cpu()) # gpu에서 내린다.\n",
        "label = labels[0].item()\n",
        "# predicted = predicted[0].item()\n",
        "\n",
        "plt.imshow(image*255)\n",
        "print('label ', label)\n",
        "print('pred', predicted)"
      ],
      "execution_count": null,
      "outputs": []
    },
    {
      "cell_type": "code",
      "metadata": {
        "id": "Ec0xdyK_gTfO",
        "colab_type": "code",
        "colab": {}
      },
      "source": [
        "for idx in range(30):\n",
        "  image = np.array(images[idx, 0].detach().cpu())\n",
        "  label = labels[idx].item()\n",
        "  pred = predicted[idx].item()\n",
        "  plt.figure(figsize=(2,2))\n",
        "  plt.title(f'Label : {label} Predict : {pred}')\n",
        "  plt.imshow(image * 255)"
      ],
      "execution_count": null,
      "outputs": []
    }
  ]
}